{
 "cells": [
  {
   "cell_type": "code",
   "execution_count": 1,
   "metadata": {
    "_cell_guid": "b1076dfc-b9ad-4769-8c92-a6c4dae69d19",
    "_uuid": "8f2839f25d086af736a60e9eeb907d3b93b6e0e5"
   },
   "outputs": [
    {
     "name": "stderr",
     "output_type": "stream",
     "text": [
      "2024-01-05 23:15:18.817051: I tensorflow/core/util/port.cc:113] oneDNN custom operations are on. You may see slightly different numerical results due to floating-point round-off errors from different computation orders. To turn them off, set the environment variable `TF_ENABLE_ONEDNN_OPTS=0`.\n",
      "2024-01-05 23:15:19.086039: E external/local_xla/xla/stream_executor/cuda/cuda_dnn.cc:9261] Unable to register cuDNN factory: Attempting to register factory for plugin cuDNN when one has already been registered\n",
      "2024-01-05 23:15:19.086092: E external/local_xla/xla/stream_executor/cuda/cuda_fft.cc:607] Unable to register cuFFT factory: Attempting to register factory for plugin cuFFT when one has already been registered\n",
      "2024-01-05 23:15:19.136039: E external/local_xla/xla/stream_executor/cuda/cuda_blas.cc:1515] Unable to register cuBLAS factory: Attempting to register factory for plugin cuBLAS when one has already been registered\n",
      "2024-01-05 23:15:19.246777: I tensorflow/core/platform/cpu_feature_guard.cc:182] This TensorFlow binary is optimized to use available CPU instructions in performance-critical operations.\n",
      "To enable the following instructions: AVX2 AVX_VNNI FMA, in other operations, rebuild TensorFlow with the appropriate compiler flags.\n",
      "2024-01-05 23:15:20.199510: W tensorflow/compiler/tf2tensorrt/utils/py_utils.cc:38] TF-TRT Warning: Could not find TensorRT\n"
     ]
    }
   ],
   "source": [
    "import tensorflow as tf\n",
    "import keras\n",
    "from tensorflow.keras.layers import Input, Dense, Conv2D\n",
    "from tensorflow.keras import Sequential\n",
    "\n",
    "from tensorflow.keras.models import Model\n",
    "\n",
    "from tensorflow.keras.layers import UpSampling2D, MaxPooling2D, Flatten\n",
    "import cv2\n",
    "import os\n",
    "import random\n",
    "from tqdm import tqdm\n",
    "import numpy as np\n",
    "from keras.preprocessing import image\n",
    "import os\n",
    "import random\n",
    "import pandas as pd\n",
    "from tensorflow.keras.models import Sequential\n",
    "from tensorflow.keras.layers import BatchNormalization\n",
    "from tensorflow.keras.layers import Conv2D, LSTM, Bidirectional\n",
    "from tensorflow.keras.layers import MaxPooling2D\n",
    "from tensorflow.keras.layers import Activation\n",
    "from tensorflow.keras.layers import Dropout \n",
    "from tensorflow.keras.layers import concatenate\n",
    "from tensorflow.keras.layers import BatchNormalization, Embedding\n",
    "from sklearn.preprocessing import MinMaxScaler, StandardScaler\n",
    "import tensorflow as tf\n",
    "import keras\n",
    "import pandas\n",
    "import cv2\n",
    "from tensorflow.keras.applications.resnet50 import ResNet50\n",
    "from tensorflow.keras.applications.resnet50 import preprocess_input\n",
    "from tensorflow.keras.layers import GlobalMaxPooling2D\n",
    "from tensorflow import expand_dims\n",
    "import gc\n",
    "from keras import Sequential\n",
    "from keras.layers import Dense, Flatten\n",
    "from numpy.linalg import norm\n",
    "from keras.initializers import Constant\n",
    "# from keras.utils import load_img\n",
    "# from keras.utils import img_to_array\n",
    "from keras.applications.resnet50 import preprocess_input\n",
    "from keras.applications.resnet50 import decode_predictions\n",
    "from keras.applications.vgg19 import VGG19\n",
    "\n",
    "from keras.models import Model"
   ]
  },
  {
   "cell_type": "code",
   "execution_count": 2,
   "metadata": {},
   "outputs": [
    {
     "name": "stdout",
     "output_type": "stream",
     "text": [
      "True\n"
     ]
    },
    {
     "name": "stderr",
     "output_type": "stream",
     "text": [
      "2024-01-05 23:15:22.048464: I external/local_xla/xla/stream_executor/cuda/cuda_executor.cc:887] could not open file to read NUMA node: /sys/bus/pci/devices/0000:01:00.0/numa_node\n",
      "Your kernel may have been built without NUMA support.\n",
      "2024-01-05 23:15:22.349878: I external/local_xla/xla/stream_executor/cuda/cuda_executor.cc:887] could not open file to read NUMA node: /sys/bus/pci/devices/0000:01:00.0/numa_node\n",
      "Your kernel may have been built without NUMA support.\n",
      "2024-01-05 23:15:22.349930: I external/local_xla/xla/stream_executor/cuda/cuda_executor.cc:887] could not open file to read NUMA node: /sys/bus/pci/devices/0000:01:00.0/numa_node\n",
      "Your kernel may have been built without NUMA support.\n"
     ]
    }
   ],
   "source": [
    "print(len(tf.config.list_physical_devices('GPU'))>0)"
   ]
  },
  {
   "cell_type": "code",
   "execution_count": 4,
   "metadata": {},
   "outputs": [
    {
     "name": "stdout",
     "output_type": "stream",
     "text": [
      "PyTorch version: 2.1.2+cu121\n",
      "**********\n",
      "_CUDA version: \n",
      "/bin/bash: line 1: nvcc: command not found\n",
      "**********\n",
      "CUDNN version: 8902\n",
      "Available GPU devices: 1\n",
      "Device Name: NVIDIA GeForce RTX 4050 Laptop GPU\n"
     ]
    },
    {
     "data": {
      "text/plain": [
       "True"
      ]
     },
     "execution_count": 4,
     "metadata": {},
     "output_type": "execute_result"
    }
   ],
   "source": [
    "import torch\n",
    "print(f'PyTorch version: {torch.__version__}')\n",
    "print('*'*10)\n",
    "print(f'_CUDA version: ')\n",
    "!nvcc --version\n",
    "print('*'*10)\n",
    "print(f'CUDNN version: {torch.backends.cudnn.version()}')\n",
    "print(f'Available GPU devices: {torch.cuda.device_count()}')\n",
    "print(f'Device Name: {torch.cuda.get_device_name()}')\n",
    "torch.cuda.is_available()"
   ]
  },
  {
   "cell_type": "code",
   "execution_count": 4,
   "metadata": {},
   "outputs": [
    {
     "name": "stderr",
     "output_type": "stream",
     "text": [
      "2024-01-05 17:57:37.464874: I external/local_xla/xla/stream_executor/cuda/cuda_executor.cc:887] could not open file to read NUMA node: /sys/bus/pci/devices/0000:01:00.0/numa_node\n",
      "Your kernel may have been built without NUMA support.\n",
      "2024-01-05 17:57:37.464994: I external/local_xla/xla/stream_executor/cuda/cuda_executor.cc:887] could not open file to read NUMA node: /sys/bus/pci/devices/0000:01:00.0/numa_node\n",
      "Your kernel may have been built without NUMA support.\n",
      "2024-01-05 17:57:37.465013: I external/local_xla/xla/stream_executor/cuda/cuda_executor.cc:887] could not open file to read NUMA node: /sys/bus/pci/devices/0000:01:00.0/numa_node\n",
      "Your kernel may have been built without NUMA support.\n",
      "2024-01-05 17:57:37.671784: I external/local_xla/xla/stream_executor/cuda/cuda_executor.cc:887] could not open file to read NUMA node: /sys/bus/pci/devices/0000:01:00.0/numa_node\n",
      "Your kernel may have been built without NUMA support.\n",
      "2024-01-05 17:57:37.671857: I external/local_xla/xla/stream_executor/cuda/cuda_executor.cc:887] could not open file to read NUMA node: /sys/bus/pci/devices/0000:01:00.0/numa_node\n",
      "Your kernel may have been built without NUMA support.\n",
      "2024-01-05 17:57:37.671863: I tensorflow/core/common_runtime/gpu/gpu_device.cc:2022] Could not identify NUMA node of platform GPU id 0, defaulting to 0.  Your kernel may not have been built with NUMA support.\n",
      "2024-01-05 17:57:37.671890: I external/local_xla/xla/stream_executor/cuda/cuda_executor.cc:887] could not open file to read NUMA node: /sys/bus/pci/devices/0000:01:00.0/numa_node\n",
      "Your kernel may have been built without NUMA support.\n",
      "2024-01-05 17:57:37.671908: I tensorflow/core/common_runtime/gpu/gpu_device.cc:1929] Created device /job:localhost/replica:0/task:0/device:GPU:0 with 3554 MB memory:  -> device: 0, name: NVIDIA GeForce RTX 4050 Laptop GPU, pci bus id: 0000:01:00.0, compute capability: 8.9\n"
     ]
    }
   ],
   "source": [
    "conv_base = VGG19(include_top=False, weights='imagenet', input_shape=(224,224, 3), pooling='avg')"
   ]
  },
  {
   "cell_type": "code",
   "execution_count": 5,
   "metadata": {},
   "outputs": [],
   "source": [
    "conv_base.trainable = False"
   ]
  },
  {
   "cell_type": "code",
   "execution_count": 6,
   "metadata": {},
   "outputs": [],
   "source": [
    "model_vgg = Sequential()\n",
    "model_vgg.add(conv_base)\n",
    "model_vgg.add(Flatten())"
   ]
  },
  {
   "cell_type": "code",
   "execution_count": 7,
   "metadata": {},
   "outputs": [
    {
     "name": "stdout",
     "output_type": "stream",
     "text": [
      "Model: \"sequential\"\n",
      "_________________________________________________________________\n",
      " Layer (type)                Output Shape              Param #   \n",
      "=================================================================\n",
      " vgg19 (Functional)          (None, 512)               20024384  \n",
      "                                                                 \n",
      " flatten (Flatten)           (None, 512)               0         \n",
      "                                                                 \n",
      "=================================================================\n",
      "Total params: 20024384 (76.39 MB)\n",
      "Trainable params: 0 (0.00 Byte)\n",
      "Non-trainable params: 20024384 (76.39 MB)\n",
      "_________________________________________________________________\n"
     ]
    }
   ],
   "source": [
    "model_vgg.summary()"
   ]
  },
  {
   "cell_type": "code",
   "execution_count": 8,
   "metadata": {},
   "outputs": [],
   "source": [
    "def get_data(folder_path):\n",
    "#         print(folder_path)\n",
    "    try:\n",
    "                img = image.load_img(folder_path, target_size=(224, 224, 3))\n",
    "                img_array = image.img_to_array(img)\n",
    "#                 expanded_img = np.expand_dims(img_array, axis=0)\n",
    "                preprocessed_input = preprocess_input(img_array)\n",
    "#                 img_array /= 255.\n",
    "                return preprocessed_input\n",
    "    except:\n",
    "        oov.append(folder_path)"
   ]
  },
  {
   "cell_type": "code",
   "execution_count": 9,
   "metadata": {},
   "outputs": [
    {
     "name": "stdout",
     "output_type": "stream",
     "text": [
      "Requirement already satisfied: tqdm in /home/yuvrajsingh/anaconda3/envs/py310/lib/python3.10/site-packages (4.65.0)\n"
     ]
    }
   ],
   "source": [
    "images = []\n",
    "array_insta_images = []\n",
    "!pip install tqdm\n",
    "oov = []\n",
    "from tqdm import tqdm"
   ]
  },
  {
   "cell_type": "code",
   "execution_count": 10,
   "metadata": {},
   "outputs": [
    {
     "name": "stderr",
     "output_type": "stream",
     "text": [
      "100%|███████████████████████████████████████████████████████████████████████████████| 6311/6311 [02:32<00:00, 41.29it/s]\n"
     ]
    }
   ],
   "source": [
    "for file in tqdm(os.listdir('images_insta_final')):\n",
    "\n",
    "     if get_data(os.path.join('images_insta_final', file)) is not None:\n",
    "            array_insta_images.append(get_data(os.path.join('images_insta_final', file)))\n",
    "    "
   ]
  },
  {
   "cell_type": "code",
   "execution_count": 11,
   "metadata": {},
   "outputs": [
    {
     "data": {
      "text/plain": [
       "6310"
      ]
     },
     "execution_count": 11,
     "metadata": {},
     "output_type": "execute_result"
    }
   ],
   "source": [
    "len(array_insta_images)\n",
    "\n",
    "# print(array_insta_images)"
   ]
  },
  {
   "cell_type": "code",
   "execution_count": 12,
   "metadata": {},
   "outputs": [
    {
     "data": {
      "text/plain": [
       "list"
      ]
     },
     "execution_count": 12,
     "metadata": {},
     "output_type": "execute_result"
    }
   ],
   "source": [
    "type(array_insta_images)"
   ]
  },
  {
   "cell_type": "code",
   "execution_count": 14,
   "metadata": {},
   "outputs": [
    {
     "data": {
      "text/plain": [
       "0"
      ]
     },
     "execution_count": 14,
     "metadata": {},
     "output_type": "execute_result"
    }
   ],
   "source": [
    "import gc\n",
    "gc.collect()"
   ]
  },
  {
   "cell_type": "code",
   "execution_count": null,
   "metadata": {},
   "outputs": [],
   "source": [
    "# array_insta_images[0][1]\n",
    "array_insta_images = np.array(array_insta_images)"
   ]
  },
  {
   "cell_type": "code",
   "execution_count": null,
   "metadata": {},
   "outputs": [],
   "source": [
    "array_insta_images = array_insta_images.astype('int32')"
   ]
  },
  {
   "cell_type": "code",
   "execution_count": 15,
   "metadata": {},
   "outputs": [
    {
     "ename": "AttributeError",
     "evalue": "'list' object has no attribute 'dtype'",
     "output_type": "error",
     "traceback": [
      "\u001b[0;31m---------------------------------------------------------------------------\u001b[0m",
      "\u001b[0;31mAttributeError\u001b[0m                            Traceback (most recent call last)",
      "Cell \u001b[0;32mIn[15], line 1\u001b[0m\n\u001b[0;32m----> 1\u001b[0m \u001b[43marray_insta_images\u001b[49m\u001b[38;5;241;43m.\u001b[39;49m\u001b[43mdtype\u001b[49m\n",
      "\u001b[0;31mAttributeError\u001b[0m: 'list' object has no attribute 'dtype'"
     ]
    }
   ],
   "source": [
    "array_insta_images.dtype\n"
   ]
  },
  {
   "cell_type": "code",
   "execution_count": null,
   "metadata": {},
   "outputs": [],
   "source": [
    "import pickle\n",
    "array_insta_images = pickle.load(open('insta-images-combined-version-2-array.pkl', 'rb'))"
   ]
  },
  {
   "cell_type": "code",
   "execution_count": 16,
   "metadata": {},
   "outputs": [
    {
     "data": {
      "text/plain": [
       "1"
      ]
     },
     "execution_count": 16,
     "metadata": {},
     "output_type": "execute_result"
    }
   ],
   "source": [
    "len(oov)"
   ]
  },
  {
   "cell_type": "code",
   "execution_count": 17,
   "metadata": {},
   "outputs": [
    {
     "data": {
      "text/plain": [
       "['images_insta_final/.ipynb_checkpoints']"
      ]
     },
     "execution_count": 17,
     "metadata": {},
     "output_type": "execute_result"
    }
   ],
   "source": [
    "oov"
   ]
  },
  {
   "cell_type": "code",
   "execution_count": 194,
   "metadata": {
    "execution": {
     "iopub.execute_input": "2024-01-05T11:24:50.992382Z",
     "iopub.status.busy": "2024-01-05T11:24:50.992084Z",
     "iopub.status.idle": "2024-01-05T11:24:50.998543Z",
     "shell.execute_reply": "2024-01-05T11:24:50.997701Z",
     "shell.execute_reply.started": "2024-01-05T11:24:50.992336Z"
    }
   },
   "outputs": [],
   "source": [
    "# # oov\n",
    "# import pickle\n",
    "# pickle.dump(oov, open(\"re-download-data.pkl\", \"wb\"))"
   ]
  },
  {
   "cell_type": "code",
   "execution_count": 195,
   "metadata": {
    "execution": {
     "iopub.execute_input": "2024-01-05T11:24:50.999828Z",
     "iopub.status.busy": "2024-01-05T11:24:50.999565Z",
     "iopub.status.idle": "2024-01-05T11:24:51.009224Z",
     "shell.execute_reply": "2024-01-05T11:24:51.008399Z",
     "shell.execute_reply.started": "2024-01-05T11:24:50.999804Z"
    }
   },
   "outputs": [],
   "source": [
    "# int(oov[0].split(\"/\")[-1].split(\"_\")[1].split(\".\")[0])"
   ]
  },
  {
   "cell_type": "code",
   "execution_count": 196,
   "metadata": {
    "execution": {
     "iopub.execute_input": "2024-01-05T11:24:51.010569Z",
     "iopub.status.busy": "2024-01-05T11:24:51.010292Z",
     "iopub.status.idle": "2024-01-05T11:24:51.018284Z",
     "shell.execute_reply": "2024-01-05T11:24:51.017508Z",
     "shell.execute_reply.started": "2024-01-05T11:24:51.010545Z"
    }
   },
   "outputs": [],
   "source": [
    "# import requests\n",
    "# oov_images = []\n",
    "# for i in tqdm(range(209, len(oov))):\n",
    "# #     print(i)\n",
    "#     if oov[i].split(\"/\")[-1].split(\"_\")[1].split(\".\")[0] != 'checkpoints':\n",
    "#         with open(\"/kaggle/working/images_{}.png\".format(int(oov[i].split(\"/\")[-1].split(\"_\")[1].split(\".\")[0])), 'wb') as f:\n",
    "#                 url = df.iloc[int(oov[i].split(\"/\")[-1].split(\"_\")[1].split(\".\")[0])][1]\n",
    "#                 data = requests.get(url)\n",
    "#                 f.write(data.content)\n",
    "# #     except:\n",
    "# #         oov_images.append(\"/kaggle/working/images_{}\".format(int(oov[i].split(\"/\")[-1].split(\"_\")[1].split(\".\")[0])))\n",
    "    "
   ]
  },
  {
   "cell_type": "code",
   "execution_count": 197,
   "metadata": {
    "execution": {
     "iopub.execute_input": "2024-01-05T11:24:51.021184Z",
     "iopub.status.busy": "2024-01-05T11:24:51.020529Z",
     "iopub.status.idle": "2024-01-05T11:24:51.028346Z",
     "shell.execute_reply": "2024-01-05T11:24:51.027504Z",
     "shell.execute_reply.started": "2024-01-05T11:24:51.021150Z"
    }
   },
   "outputs": [],
   "source": [
    "# !zip -r new_images.zip "
   ]
  },
  {
   "cell_type": "code",
   "execution_count": 212,
   "metadata": {
    "execution": {
     "iopub.execute_input": "2024-01-05T11:25:17.908144Z",
     "iopub.status.busy": "2024-01-05T11:25:17.907770Z",
     "iopub.status.idle": "2024-01-05T11:25:18.037240Z",
     "shell.execute_reply": "2024-01-05T11:25:18.036414Z",
     "shell.execute_reply.started": "2024-01-05T11:25:17.908112Z"
    }
   },
   "outputs": [],
   "source": [
    "import pandas as pd\n",
    "df = pd.read_csv(\"/kaggle/input/preprocessed-insta-data-version-2/preprocessed_data_instagram_posts_version_2.csv\")"
   ]
  },
  {
   "cell_type": "code",
   "execution_count": 213,
   "metadata": {
    "execution": {
     "iopub.execute_input": "2024-01-05T11:25:18.117781Z",
     "iopub.status.busy": "2024-01-05T11:25:18.117168Z",
     "iopub.status.idle": "2024-01-05T11:25:18.130269Z",
     "shell.execute_reply": "2024-01-05T11:25:18.129190Z",
     "shell.execute_reply.started": "2024-01-05T11:25:18.117747Z"
    }
   },
   "outputs": [
    {
     "data": {
      "text/html": [
       "<div>\n",
       "<style scoped>\n",
       "    .dataframe tbody tr th:only-of-type {\n",
       "        vertical-align: middle;\n",
       "    }\n",
       "\n",
       "    .dataframe tbody tr th {\n",
       "        vertical-align: top;\n",
       "    }\n",
       "\n",
       "    .dataframe thead th {\n",
       "        text-align: right;\n",
       "    }\n",
       "</style>\n",
       "<table border=\"1\" class=\"dataframe\">\n",
       "  <thead>\n",
       "    <tr style=\"text-align: right;\">\n",
       "      <th></th>\n",
       "      <th>caption</th>\n",
       "      <th>displayUrl</th>\n",
       "      <th>hashtags</th>\n",
       "      <th>likesCount</th>\n",
       "      <th>combined_text</th>\n",
       "    </tr>\n",
       "  </thead>\n",
       "  <tbody>\n",
       "    <tr>\n",
       "      <th>0</th>\n",
       "      <td>Views from Conic hill on a blue bird day ☀️ \\n...</td>\n",
       "      <td>https://instagram.fadb7-1.fna.fbcdn.net/v/t51....</td>\n",
       "      <td>scottishhighlands welivetoexplore lovescotland...</td>\n",
       "      <td>145.0</td>\n",
       "      <td>view conic hill blue bird day    sun    ️     ...</td>\n",
       "    </tr>\n",
       "    <tr>\n",
       "      <th>1</th>\n",
       "      <td>Today we went down into the forest and picked ...</td>\n",
       "      <td>https://scontent-sea1-1.cdninstagram.com/v/t51...</td>\n",
       "      <td>northumberlandnationalpark forestryengland for...</td>\n",
       "      <td>135.0</td>\n",
       "      <td>today go forest pick year christmas tree    Ch...</td>\n",
       "    </tr>\n",
       "    <tr>\n",
       "      <th>2</th>\n",
       "      <td>Throwback to this gorgeous morning over Ullswa...</td>\n",
       "      <td>https://instagram.fjnb2-1.fna.fbcdn.net/v/t51....</td>\n",
       "      <td>lakedistrict thelakedistrict cumbria welivetoe...</td>\n",
       "      <td>196.0</td>\n",
       "      <td>throwback gorgeous morning ullswater fresh dus...</td>\n",
       "    </tr>\n",
       "    <tr>\n",
       "      <th>3</th>\n",
       "      <td>Fog making for some whimsical forest wanders ✨...</td>\n",
       "      <td>https://scontent-zrh1-1.cdninstagram.com/v/t51...</td>\n",
       "      <td>lakedistrict forestryengland whinlatter folkgr...</td>\n",
       "      <td>172.0</td>\n",
       "      <td>fog make whimsical forest wander    sparkle   ...</td>\n",
       "    </tr>\n",
       "    <tr>\n",
       "      <th>4</th>\n",
       "      <td>Just back from a glorious few days in the Tros...</td>\n",
       "      <td>https://instagram.fruh2-1.fna.fbcdn.net/v/t51....</td>\n",
       "      <td>neverstopexploring everydaylifeoutdoors explor...</td>\n",
       "      <td>200.0</td>\n",
       "      <td>back glorious day trossachs explore    eat pie...</td>\n",
       "    </tr>\n",
       "  </tbody>\n",
       "</table>\n",
       "</div>"
      ],
      "text/plain": [
       "                                             caption  \\\n",
       "0  Views from Conic hill on a blue bird day ☀️ \\n...   \n",
       "1  Today we went down into the forest and picked ...   \n",
       "2  Throwback to this gorgeous morning over Ullswa...   \n",
       "3  Fog making for some whimsical forest wanders ✨...   \n",
       "4  Just back from a glorious few days in the Tros...   \n",
       "\n",
       "                                          displayUrl  \\\n",
       "0  https://instagram.fadb7-1.fna.fbcdn.net/v/t51....   \n",
       "1  https://scontent-sea1-1.cdninstagram.com/v/t51...   \n",
       "2  https://instagram.fjnb2-1.fna.fbcdn.net/v/t51....   \n",
       "3  https://scontent-zrh1-1.cdninstagram.com/v/t51...   \n",
       "4  https://instagram.fruh2-1.fna.fbcdn.net/v/t51....   \n",
       "\n",
       "                                            hashtags  likesCount  \\\n",
       "0  scottishhighlands welivetoexplore lovescotland...       145.0   \n",
       "1  northumberlandnationalpark forestryengland for...       135.0   \n",
       "2  lakedistrict thelakedistrict cumbria welivetoe...       196.0   \n",
       "3  lakedistrict forestryengland whinlatter folkgr...       172.0   \n",
       "4  neverstopexploring everydaylifeoutdoors explor...       200.0   \n",
       "\n",
       "                                       combined_text  \n",
       "0  view conic hill blue bird day    sun    ️     ...  \n",
       "1  today go forest pick year christmas tree    Ch...  \n",
       "2  throwback gorgeous morning ullswater fresh dus...  \n",
       "3  fog make whimsical forest wander    sparkle   ...  \n",
       "4  back glorious day trossachs explore    eat pie...  "
      ]
     },
     "execution_count": 213,
     "metadata": {},
     "output_type": "execute_result"
    }
   ],
   "source": [
    "df.head()"
   ]
  },
  {
   "cell_type": "code",
   "execution_count": 214,
   "metadata": {
    "execution": {
     "iopub.execute_input": "2024-01-05T11:25:18.258546Z",
     "iopub.status.busy": "2024-01-05T11:25:18.258156Z",
     "iopub.status.idle": "2024-01-05T11:25:18.264614Z",
     "shell.execute_reply": "2024-01-05T11:25:18.263637Z",
     "shell.execute_reply.started": "2024-01-05T11:25:18.258519Z"
    }
   },
   "outputs": [],
   "source": [
    "df.drop(df.tail(1).index,inplace=True)"
   ]
  },
  {
   "cell_type": "code",
   "execution_count": 215,
   "metadata": {
    "execution": {
     "iopub.execute_input": "2024-01-05T11:25:18.503804Z",
     "iopub.status.busy": "2024-01-05T11:25:18.503346Z",
     "iopub.status.idle": "2024-01-05T11:25:18.510006Z",
     "shell.execute_reply": "2024-01-05T11:25:18.509008Z",
     "shell.execute_reply.started": "2024-01-05T11:25:18.503770Z"
    }
   },
   "outputs": [
    {
     "data": {
      "text/plain": [
       "(6310, 5)"
      ]
     },
     "execution_count": 215,
     "metadata": {},
     "output_type": "execute_result"
    }
   ],
   "source": [
    "df.shape"
   ]
  },
  {
   "cell_type": "code",
   "execution_count": 216,
   "metadata": {
    "execution": {
     "iopub.execute_input": "2024-01-05T11:25:18.720823Z",
     "iopub.status.busy": "2024-01-05T11:25:18.720455Z",
     "iopub.status.idle": "2024-01-05T11:25:18.727227Z",
     "shell.execute_reply": "2024-01-05T11:25:18.726274Z",
     "shell.execute_reply.started": "2024-01-05T11:25:18.720792Z"
    }
   },
   "outputs": [
    {
     "data": {
      "text/plain": [
       "'today go forest pick year christmas tree    Christmas tree    obviously bring home jeep snow    snowman without snow    ️            northumberlandnationalpark britain northumberlandnationalpark forestryengland forestroad adventureisoutthere thediscoverer earthmagic earthfocus forestphotography hamsterley visitengland visitbritain everydaylifeoutdoor wanderlust neverstopexplore explorebritain    jeepuk jeep jeeplife jeepcherokee jeepxj folkgreen folknature welivetoexplore christmas2023 christmastree'"
      ]
     },
     "execution_count": 216,
     "metadata": {},
     "output_type": "execute_result"
    }
   ],
   "source": [
    "df['combined_text'][1]\n"
   ]
  },
  {
   "cell_type": "code",
   "execution_count": 217,
   "metadata": {
    "execution": {
     "iopub.execute_input": "2024-01-05T11:25:18.950180Z",
     "iopub.status.busy": "2024-01-05T11:25:18.949549Z",
     "iopub.status.idle": "2024-01-05T11:25:18.954928Z",
     "shell.execute_reply": "2024-01-05T11:25:18.954067Z",
     "shell.execute_reply.started": "2024-01-05T11:25:18.950147Z"
    }
   },
   "outputs": [],
   "source": [
    "df['tags'] = None\n",
    "data = []\n",
    "corpus = []"
   ]
  },
  {
   "cell_type": "code",
   "execution_count": 218,
   "metadata": {
    "execution": {
     "iopub.execute_input": "2024-01-05T11:25:20.350489Z",
     "iopub.status.busy": "2024-01-05T11:25:20.349615Z",
     "iopub.status.idle": "2024-01-05T11:25:20.355021Z",
     "shell.execute_reply": "2024-01-05T11:25:20.354035Z",
     "shell.execute_reply.started": "2024-01-05T11:25:20.350453Z"
    }
   },
   "outputs": [],
   "source": [
    "def split_data(text):\n",
    "    data.append(text.split(\" \"))"
   ]
  },
  {
   "cell_type": "code",
   "execution_count": 219,
   "metadata": {
    "execution": {
     "iopub.execute_input": "2024-01-05T11:25:20.563774Z",
     "iopub.status.busy": "2024-01-05T11:25:20.563429Z",
     "iopub.status.idle": "2024-01-05T11:25:20.568558Z",
     "shell.execute_reply": "2024-01-05T11:25:20.567411Z",
     "shell.execute_reply.started": "2024-01-05T11:25:20.563741Z"
    }
   },
   "outputs": [],
   "source": [
    "\n",
    "\n",
    "def make_corpus(data):\n",
    "    corpus.append(data)"
   ]
  },
  {
   "cell_type": "code",
   "execution_count": 220,
   "metadata": {
    "execution": {
     "iopub.execute_input": "2024-01-05T11:25:20.797350Z",
     "iopub.status.busy": "2024-01-05T11:25:20.796682Z",
     "iopub.status.idle": "2024-01-05T11:25:20.810696Z",
     "shell.execute_reply": "2024-01-05T11:25:20.809777Z",
     "shell.execute_reply.started": "2024-01-05T11:25:20.797307Z"
    }
   },
   "outputs": [
    {
     "name": "stdout",
     "output_type": "stream",
     "text": [
      "<class 'pandas.core.frame.DataFrame'>\n",
      "RangeIndex: 6310 entries, 0 to 6309\n",
      "Data columns (total 6 columns):\n",
      " #   Column         Non-Null Count  Dtype  \n",
      "---  ------         --------------  -----  \n",
      " 0   caption        6310 non-null   object \n",
      " 1   displayUrl     6310 non-null   object \n",
      " 2   hashtags       6310 non-null   object \n",
      " 3   likesCount     6310 non-null   float64\n",
      " 4   combined_text  6310 non-null   object \n",
      " 5   tags           0 non-null      object \n",
      "dtypes: float64(1), object(5)\n",
      "memory usage: 295.9+ KB\n"
     ]
    }
   ],
   "source": [
    "df.info()"
   ]
  },
  {
   "cell_type": "code",
   "execution_count": 221,
   "metadata": {
    "execution": {
     "iopub.execute_input": "2024-01-05T11:25:21.686223Z",
     "iopub.status.busy": "2024-01-05T11:25:21.685848Z",
     "iopub.status.idle": "2024-01-05T11:25:21.694622Z",
     "shell.execute_reply": "2024-01-05T11:25:21.693682Z",
     "shell.execute_reply.started": "2024-01-05T11:25:21.686190Z"
    }
   },
   "outputs": [],
   "source": [
    "df['tags'] = df['combined_text']"
   ]
  },
  {
   "cell_type": "code",
   "execution_count": 222,
   "metadata": {
    "execution": {
     "iopub.execute_input": "2024-01-05T11:25:22.457370Z",
     "iopub.status.busy": "2024-01-05T11:25:22.456732Z",
     "iopub.status.idle": "2024-01-05T11:25:22.468341Z",
     "shell.execute_reply": "2024-01-05T11:25:22.467415Z",
     "shell.execute_reply.started": "2024-01-05T11:25:22.457323Z"
    }
   },
   "outputs": [
    {
     "data": {
      "text/plain": [
       "caption          0\n",
       "displayUrl       0\n",
       "hashtags         0\n",
       "likesCount       0\n",
       "combined_text    0\n",
       "tags             0\n",
       "dtype: int64"
      ]
     },
     "execution_count": 222,
     "metadata": {},
     "output_type": "execute_result"
    }
   ],
   "source": [
    "df.isnull().sum()"
   ]
  },
  {
   "cell_type": "code",
   "execution_count": 223,
   "metadata": {
    "execution": {
     "iopub.execute_input": "2024-01-05T11:25:27.788260Z",
     "iopub.status.busy": "2024-01-05T11:25:27.787605Z",
     "iopub.status.idle": "2024-01-05T11:25:27.792310Z",
     "shell.execute_reply": "2024-01-05T11:25:27.791190Z",
     "shell.execute_reply.started": "2024-01-05T11:25:27.788223Z"
    }
   },
   "outputs": [],
   "source": [
    "# df.dropna(axis=0, inplace=True)"
   ]
  },
  {
   "cell_type": "code",
   "execution_count": 224,
   "metadata": {
    "execution": {
     "iopub.execute_input": "2024-01-05T11:25:30.314196Z",
     "iopub.status.busy": "2024-01-05T11:25:30.313836Z",
     "iopub.status.idle": "2024-01-05T11:25:30.320494Z",
     "shell.execute_reply": "2024-01-05T11:25:30.319483Z",
     "shell.execute_reply.started": "2024-01-05T11:25:30.314168Z"
    }
   },
   "outputs": [
    {
     "data": {
      "text/plain": [
       "(6310, 6)"
      ]
     },
     "execution_count": 224,
     "metadata": {},
     "output_type": "execute_result"
    }
   ],
   "source": [
    "df.shape\n",
    "# "
   ]
  },
  {
   "cell_type": "code",
   "execution_count": 225,
   "metadata": {
    "execution": {
     "iopub.execute_input": "2024-01-05T11:25:31.708412Z",
     "iopub.status.busy": "2024-01-05T11:25:31.707892Z",
     "iopub.status.idle": "2024-01-05T11:25:31.712635Z",
     "shell.execute_reply": "2024-01-05T11:25:31.711599Z",
     "shell.execute_reply.started": "2024-01-05T11:25:31.708341Z"
    }
   },
   "outputs": [],
   "source": [
    "#removing respective images and making the no of images samr"
   ]
  },
  {
   "cell_type": "code",
   "execution_count": 226,
   "metadata": {
    "execution": {
     "iopub.execute_input": "2024-01-05T11:25:32.169976Z",
     "iopub.status.busy": "2024-01-05T11:25:32.169660Z",
     "iopub.status.idle": "2024-01-05T11:25:32.174082Z",
     "shell.execute_reply": "2024-01-05T11:25:32.173110Z",
     "shell.execute_reply.started": "2024-01-05T11:25:32.169941Z"
    }
   },
   "outputs": [],
   "source": [
    "import random\n"
   ]
  },
  {
   "cell_type": "code",
   "execution_count": 227,
   "metadata": {
    "execution": {
     "iopub.execute_input": "2024-01-05T11:25:33.836527Z",
     "iopub.status.busy": "2024-01-05T11:25:33.836100Z",
     "iopub.status.idle": "2024-01-05T11:25:45.856491Z",
     "shell.execute_reply": "2024-01-05T11:25:45.855215Z",
     "shell.execute_reply.started": "2024-01-05T11:25:33.836491Z"
    }
   },
   "outputs": [
    {
     "name": "stdout",
     "output_type": "stream",
     "text": [
      "Requirement already satisfied: textacy in /opt/conda/lib/python3.10/site-packages (0.13.0)\n",
      "Requirement already satisfied: cachetools>=4.0.0 in /opt/conda/lib/python3.10/site-packages (from textacy) (4.2.4)\n",
      "Requirement already satisfied: catalogue~=2.0 in /opt/conda/lib/python3.10/site-packages (from textacy) (2.0.10)\n",
      "Requirement already satisfied: cytoolz>=0.10.1 in /opt/conda/lib/python3.10/site-packages (from textacy) (0.12.2)\n",
      "Requirement already satisfied: floret~=0.10.0 in /opt/conda/lib/python3.10/site-packages (from textacy) (0.10.5)\n",
      "Requirement already satisfied: jellyfish>=0.8.0 in /opt/conda/lib/python3.10/site-packages (from textacy) (1.0.3)\n",
      "Requirement already satisfied: joblib>=0.13.0 in /opt/conda/lib/python3.10/site-packages (from textacy) (1.3.2)\n",
      "Requirement already satisfied: networkx>=2.7 in /opt/conda/lib/python3.10/site-packages (from textacy) (3.1)\n",
      "Requirement already satisfied: numpy>=1.17.0 in /opt/conda/lib/python3.10/site-packages (from textacy) (1.24.3)\n",
      "Requirement already satisfied: pyphen>=0.10.0 in /opt/conda/lib/python3.10/site-packages (from textacy) (0.14.0)\n",
      "Requirement already satisfied: requests>=2.10.0 in /opt/conda/lib/python3.10/site-packages (from textacy) (2.31.0)\n",
      "Requirement already satisfied: scipy>=1.8.0 in /opt/conda/lib/python3.10/site-packages (from textacy) (1.11.4)\n",
      "Requirement already satisfied: scikit-learn>=1.0 in /opt/conda/lib/python3.10/site-packages (from textacy) (1.2.2)\n",
      "Requirement already satisfied: spacy~=3.0 in /opt/conda/lib/python3.10/site-packages (from textacy) (3.7.2)\n",
      "Requirement already satisfied: tqdm>=4.19.6 in /opt/conda/lib/python3.10/site-packages (from textacy) (4.66.1)\n",
      "Requirement already satisfied: toolz>=0.8.0 in /opt/conda/lib/python3.10/site-packages (from cytoolz>=0.10.1->textacy) (0.12.0)\n",
      "Requirement already satisfied: charset-normalizer<4,>=2 in /opt/conda/lib/python3.10/site-packages (from requests>=2.10.0->textacy) (3.2.0)\n",
      "Requirement already satisfied: idna<4,>=2.5 in /opt/conda/lib/python3.10/site-packages (from requests>=2.10.0->textacy) (3.4)\n",
      "Requirement already satisfied: urllib3<3,>=1.21.1 in /opt/conda/lib/python3.10/site-packages (from requests>=2.10.0->textacy) (1.26.15)\n",
      "Requirement already satisfied: certifi>=2017.4.17 in /opt/conda/lib/python3.10/site-packages (from requests>=2.10.0->textacy) (2023.11.17)\n",
      "Requirement already satisfied: threadpoolctl>=2.0.0 in /opt/conda/lib/python3.10/site-packages (from scikit-learn>=1.0->textacy) (3.2.0)\n",
      "Requirement already satisfied: spacy-legacy<3.1.0,>=3.0.11 in /opt/conda/lib/python3.10/site-packages (from spacy~=3.0->textacy) (3.0.12)\n",
      "Requirement already satisfied: spacy-loggers<2.0.0,>=1.0.0 in /opt/conda/lib/python3.10/site-packages (from spacy~=3.0->textacy) (1.0.5)\n",
      "Requirement already satisfied: murmurhash<1.1.0,>=0.28.0 in /opt/conda/lib/python3.10/site-packages (from spacy~=3.0->textacy) (1.0.10)\n",
      "Requirement already satisfied: cymem<2.1.0,>=2.0.2 in /opt/conda/lib/python3.10/site-packages (from spacy~=3.0->textacy) (2.0.8)\n",
      "Requirement already satisfied: preshed<3.1.0,>=3.0.2 in /opt/conda/lib/python3.10/site-packages (from spacy~=3.0->textacy) (3.0.9)\n",
      "Requirement already satisfied: thinc<8.3.0,>=8.1.8 in /opt/conda/lib/python3.10/site-packages (from spacy~=3.0->textacy) (8.2.1)\n",
      "Requirement already satisfied: wasabi<1.2.0,>=0.9.1 in /opt/conda/lib/python3.10/site-packages (from spacy~=3.0->textacy) (1.1.2)\n",
      "Requirement already satisfied: srsly<3.0.0,>=2.4.3 in /opt/conda/lib/python3.10/site-packages (from spacy~=3.0->textacy) (2.4.8)\n",
      "Requirement already satisfied: weasel<0.4.0,>=0.1.0 in /opt/conda/lib/python3.10/site-packages (from spacy~=3.0->textacy) (0.3.4)\n",
      "Requirement already satisfied: typer<0.10.0,>=0.3.0 in /opt/conda/lib/python3.10/site-packages (from spacy~=3.0->textacy) (0.9.0)\n",
      "Requirement already satisfied: smart-open<7.0.0,>=5.2.1 in /opt/conda/lib/python3.10/site-packages (from spacy~=3.0->textacy) (6.3.0)\n",
      "Requirement already satisfied: pydantic!=1.8,!=1.8.1,<3.0.0,>=1.7.4 in /opt/conda/lib/python3.10/site-packages (from spacy~=3.0->textacy) (1.10.12)\n",
      "Requirement already satisfied: jinja2 in /opt/conda/lib/python3.10/site-packages (from spacy~=3.0->textacy) (3.1.2)\n",
      "Requirement already satisfied: setuptools in /opt/conda/lib/python3.10/site-packages (from spacy~=3.0->textacy) (68.1.2)\n",
      "Requirement already satisfied: packaging>=20.0 in /opt/conda/lib/python3.10/site-packages (from spacy~=3.0->textacy) (21.3)\n",
      "Requirement already satisfied: langcodes<4.0.0,>=3.2.0 in /opt/conda/lib/python3.10/site-packages (from spacy~=3.0->textacy) (3.3.0)\n",
      "Requirement already satisfied: pyparsing!=3.0.5,>=2.0.2 in /opt/conda/lib/python3.10/site-packages (from packaging>=20.0->spacy~=3.0->textacy) (3.0.9)\n",
      "Requirement already satisfied: typing-extensions>=4.2.0 in /opt/conda/lib/python3.10/site-packages (from pydantic!=1.8,!=1.8.1,<3.0.0,>=1.7.4->spacy~=3.0->textacy) (4.5.0)\n",
      "Requirement already satisfied: blis<0.8.0,>=0.7.8 in /opt/conda/lib/python3.10/site-packages (from thinc<8.3.0,>=8.1.8->spacy~=3.0->textacy) (0.7.10)\n",
      "Requirement already satisfied: confection<1.0.0,>=0.0.1 in /opt/conda/lib/python3.10/site-packages (from thinc<8.3.0,>=8.1.8->spacy~=3.0->textacy) (0.1.4)\n",
      "Requirement already satisfied: click<9.0.0,>=7.1.1 in /opt/conda/lib/python3.10/site-packages (from typer<0.10.0,>=0.3.0->spacy~=3.0->textacy) (8.1.7)\n",
      "Requirement already satisfied: cloudpathlib<0.17.0,>=0.7.0 in /opt/conda/lib/python3.10/site-packages (from weasel<0.4.0,>=0.1.0->spacy~=3.0->textacy) (0.16.0)\n",
      "Requirement already satisfied: MarkupSafe>=2.0 in /opt/conda/lib/python3.10/site-packages (from jinja2->spacy~=3.0->textacy) (2.1.3)\n"
     ]
    }
   ],
   "source": [
    "!pip install textacy"
   ]
  },
  {
   "cell_type": "code",
   "execution_count": 228,
   "metadata": {
    "execution": {
     "iopub.execute_input": "2024-01-05T11:25:45.858959Z",
     "iopub.status.busy": "2024-01-05T11:25:45.858625Z",
     "iopub.status.idle": "2024-01-05T11:25:45.874088Z",
     "shell.execute_reply": "2024-01-05T11:25:45.873220Z",
     "shell.execute_reply.started": "2024-01-05T11:25:45.858928Z"
    }
   },
   "outputs": [
    {
     "data": {
      "text/html": [
       "<div>\n",
       "<style scoped>\n",
       "    .dataframe tbody tr th:only-of-type {\n",
       "        vertical-align: middle;\n",
       "    }\n",
       "\n",
       "    .dataframe tbody tr th {\n",
       "        vertical-align: top;\n",
       "    }\n",
       "\n",
       "    .dataframe thead th {\n",
       "        text-align: right;\n",
       "    }\n",
       "</style>\n",
       "<table border=\"1\" class=\"dataframe\">\n",
       "  <thead>\n",
       "    <tr style=\"text-align: right;\">\n",
       "      <th></th>\n",
       "      <th>caption</th>\n",
       "      <th>displayUrl</th>\n",
       "      <th>hashtags</th>\n",
       "      <th>likesCount</th>\n",
       "      <th>combined_text</th>\n",
       "      <th>tags</th>\n",
       "    </tr>\n",
       "  </thead>\n",
       "  <tbody>\n",
       "    <tr>\n",
       "      <th>0</th>\n",
       "      <td>Views from Conic hill on a blue bird day ☀️ \\n...</td>\n",
       "      <td>https://instagram.fadb7-1.fna.fbcdn.net/v/t51....</td>\n",
       "      <td>scottishhighlands welivetoexplore lovescotland...</td>\n",
       "      <td>145.0</td>\n",
       "      <td>view conic hill blue bird day    sun    ️     ...</td>\n",
       "      <td>view conic hill blue bird day    sun    ️     ...</td>\n",
       "    </tr>\n",
       "    <tr>\n",
       "      <th>1</th>\n",
       "      <td>Today we went down into the forest and picked ...</td>\n",
       "      <td>https://scontent-sea1-1.cdninstagram.com/v/t51...</td>\n",
       "      <td>northumberlandnationalpark forestryengland for...</td>\n",
       "      <td>135.0</td>\n",
       "      <td>today go forest pick year christmas tree    Ch...</td>\n",
       "      <td>today go forest pick year christmas tree    Ch...</td>\n",
       "    </tr>\n",
       "    <tr>\n",
       "      <th>2</th>\n",
       "      <td>Throwback to this gorgeous morning over Ullswa...</td>\n",
       "      <td>https://instagram.fjnb2-1.fna.fbcdn.net/v/t51....</td>\n",
       "      <td>lakedistrict thelakedistrict cumbria welivetoe...</td>\n",
       "      <td>196.0</td>\n",
       "      <td>throwback gorgeous morning ullswater fresh dus...</td>\n",
       "      <td>throwback gorgeous morning ullswater fresh dus...</td>\n",
       "    </tr>\n",
       "    <tr>\n",
       "      <th>3</th>\n",
       "      <td>Fog making for some whimsical forest wanders ✨...</td>\n",
       "      <td>https://scontent-zrh1-1.cdninstagram.com/v/t51...</td>\n",
       "      <td>lakedistrict forestryengland whinlatter folkgr...</td>\n",
       "      <td>172.0</td>\n",
       "      <td>fog make whimsical forest wander    sparkle   ...</td>\n",
       "      <td>fog make whimsical forest wander    sparkle   ...</td>\n",
       "    </tr>\n",
       "    <tr>\n",
       "      <th>4</th>\n",
       "      <td>Just back from a glorious few days in the Tros...</td>\n",
       "      <td>https://instagram.fruh2-1.fna.fbcdn.net/v/t51....</td>\n",
       "      <td>neverstopexploring everydaylifeoutdoors explor...</td>\n",
       "      <td>200.0</td>\n",
       "      <td>back glorious day trossachs explore    eat pie...</td>\n",
       "      <td>back glorious day trossachs explore    eat pie...</td>\n",
       "    </tr>\n",
       "  </tbody>\n",
       "</table>\n",
       "</div>"
      ],
      "text/plain": [
       "                                             caption  \\\n",
       "0  Views from Conic hill on a blue bird day ☀️ \\n...   \n",
       "1  Today we went down into the forest and picked ...   \n",
       "2  Throwback to this gorgeous morning over Ullswa...   \n",
       "3  Fog making for some whimsical forest wanders ✨...   \n",
       "4  Just back from a glorious few days in the Tros...   \n",
       "\n",
       "                                          displayUrl  \\\n",
       "0  https://instagram.fadb7-1.fna.fbcdn.net/v/t51....   \n",
       "1  https://scontent-sea1-1.cdninstagram.com/v/t51...   \n",
       "2  https://instagram.fjnb2-1.fna.fbcdn.net/v/t51....   \n",
       "3  https://scontent-zrh1-1.cdninstagram.com/v/t51...   \n",
       "4  https://instagram.fruh2-1.fna.fbcdn.net/v/t51....   \n",
       "\n",
       "                                            hashtags  likesCount  \\\n",
       "0  scottishhighlands welivetoexplore lovescotland...       145.0   \n",
       "1  northumberlandnationalpark forestryengland for...       135.0   \n",
       "2  lakedistrict thelakedistrict cumbria welivetoe...       196.0   \n",
       "3  lakedistrict forestryengland whinlatter folkgr...       172.0   \n",
       "4  neverstopexploring everydaylifeoutdoors explor...       200.0   \n",
       "\n",
       "                                       combined_text  \\\n",
       "0  view conic hill blue bird day    sun    ️     ...   \n",
       "1  today go forest pick year christmas tree    Ch...   \n",
       "2  throwback gorgeous morning ullswater fresh dus...   \n",
       "3  fog make whimsical forest wander    sparkle   ...   \n",
       "4  back glorious day trossachs explore    eat pie...   \n",
       "\n",
       "                                                tags  \n",
       "0  view conic hill blue bird day    sun    ️     ...  \n",
       "1  today go forest pick year christmas tree    Ch...  \n",
       "2  throwback gorgeous morning ullswater fresh dus...  \n",
       "3  fog make whimsical forest wander    sparkle   ...  \n",
       "4  back glorious day trossachs explore    eat pie...  "
      ]
     },
     "execution_count": 228,
     "metadata": {},
     "output_type": "execute_result"
    }
   ],
   "source": [
    "df.head()"
   ]
  },
  {
   "cell_type": "code",
   "execution_count": 229,
   "metadata": {
    "execution": {
     "iopub.execute_input": "2024-01-05T11:25:45.876402Z",
     "iopub.status.busy": "2024-01-05T11:25:45.875488Z",
     "iopub.status.idle": "2024-01-05T11:25:45.883922Z",
     "shell.execute_reply": "2024-01-05T11:25:45.883003Z",
     "shell.execute_reply.started": "2024-01-05T11:25:45.876352Z"
    }
   },
   "outputs": [],
   "source": [
    "import textacy\n",
    "from textacy import preprocessing"
   ]
  },
  {
   "cell_type": "code",
   "execution_count": 230,
   "metadata": {
    "execution": {
     "iopub.execute_input": "2024-01-05T11:25:45.886582Z",
     "iopub.status.busy": "2024-01-05T11:25:45.886278Z",
     "iopub.status.idle": "2024-01-05T11:25:45.894661Z",
     "shell.execute_reply": "2024-01-05T11:25:45.893788Z",
     "shell.execute_reply.started": "2024-01-05T11:25:45.886557Z"
    }
   },
   "outputs": [],
   "source": [
    "def clean_text_split_data(data):\n",
    "    cleaned = preprocessing.normalize.whitespace(data)\n",
    "    return cleaned"
   ]
  },
  {
   "cell_type": "code",
   "execution_count": 231,
   "metadata": {
    "execution": {
     "iopub.execute_input": "2024-01-05T11:25:45.896194Z",
     "iopub.status.busy": "2024-01-05T11:25:45.895855Z",
     "iopub.status.idle": "2024-01-05T11:25:46.768142Z",
     "shell.execute_reply": "2024-01-05T11:25:46.767390Z",
     "shell.execute_reply.started": "2024-01-05T11:25:45.896162Z"
    }
   },
   "outputs": [],
   "source": [
    "new_data = []\n",
    "\n",
    "df['tags'] = df['tags'].apply(clean_text_split_data)"
   ]
  },
  {
   "cell_type": "code",
   "execution_count": 232,
   "metadata": {
    "execution": {
     "iopub.execute_input": "2024-01-05T11:25:46.769421Z",
     "iopub.status.busy": "2024-01-05T11:25:46.769120Z",
     "iopub.status.idle": "2024-01-05T11:25:46.777312Z",
     "shell.execute_reply": "2024-01-05T11:25:46.776352Z",
     "shell.execute_reply.started": "2024-01-05T11:25:46.769395Z"
    }
   },
   "outputs": [
    {
     "data": {
      "text/plain": [
       "0       view conic hill blue bird day sun ️ scottishhi...\n",
       "1       today go forest pick year christmas tree Chris...\n",
       "2       throwback gorgeous morning ullswater fresh dus...\n",
       "3       fog make whimsical forest wander sparkle laked...\n",
       "4       back glorious day trossachs explore eat pie wa...\n",
       "                              ...                        \n",
       "6305    03 11 2018 mastenbo kapellen belgium plogge tr...\n",
       "6306    12 01 2017 mastenbo kapellen belgium plogge tr...\n",
       "6307    30 01 2018 mastenbo kapellen belgium plogge tr...\n",
       "6308    20 12 2019 mastenbo kapellen belgium plogge tr...\n",
       "6309    12 01 2017 mastenbo kapellen belgium plogge tr...\n",
       "Name: tags, Length: 6310, dtype: object"
      ]
     },
     "execution_count": 232,
     "metadata": {},
     "output_type": "execute_result"
    }
   ],
   "source": [
    "df['tags']"
   ]
  },
  {
   "cell_type": "code",
   "execution_count": 233,
   "metadata": {
    "execution": {
     "iopub.execute_input": "2024-01-05T11:25:46.778813Z",
     "iopub.status.busy": "2024-01-05T11:25:46.778490Z",
     "iopub.status.idle": "2024-01-05T11:25:46.786707Z",
     "shell.execute_reply": "2024-01-05T11:25:46.785793Z",
     "shell.execute_reply.started": "2024-01-05T11:25:46.778788Z"
    }
   },
   "outputs": [],
   "source": [
    "df['tags_2'] = df['tags']"
   ]
  },
  {
   "cell_type": "code",
   "execution_count": 234,
   "metadata": {
    "execution": {
     "iopub.execute_input": "2024-01-05T11:25:46.788182Z",
     "iopub.status.busy": "2024-01-05T11:25:46.787856Z",
     "iopub.status.idle": "2024-01-05T11:25:46.864641Z",
     "shell.execute_reply": "2024-01-05T11:25:46.863820Z",
     "shell.execute_reply.started": "2024-01-05T11:25:46.788151Z"
    }
   },
   "outputs": [],
   "source": [
    "df['tags'] = df['tags'].apply(split_data)"
   ]
  },
  {
   "cell_type": "code",
   "execution_count": 235,
   "metadata": {
    "execution": {
     "iopub.execute_input": "2024-01-05T11:25:46.865920Z",
     "iopub.status.busy": "2024-01-05T11:25:46.865642Z",
     "iopub.status.idle": "2024-01-05T11:25:46.873154Z",
     "shell.execute_reply": "2024-01-05T11:25:46.872234Z",
     "shell.execute_reply.started": "2024-01-05T11:25:46.865895Z"
    }
   },
   "outputs": [
    {
     "data": {
      "text/plain": [
       "['view',\n",
       " 'conic',\n",
       " 'hill',\n",
       " 'blue',\n",
       " 'bird',\n",
       " 'day',\n",
       " 'sun',\n",
       " '️',\n",
       " 'scottishhighland',\n",
       " 'scotland',\n",
       " 'scottishhighland',\n",
       " 'welivetoexplore',\n",
       " 'lovescotland',\n",
       " 'trossachs',\n",
       " 'visitscotland',\n",
       " 'exploremore',\n",
       " 'scotland',\n",
       " 'thediscoverer',\n",
       " 'earthfocus',\n",
       " 'earthoutdoor',\n",
       " 'neverstopexplore',\n",
       " 'scotlandexplore',\n",
       " 'hiddenscotland',\n",
       " 'welivetodiscover',\n",
       " 'conichill',\n",
       " 'lovesscotland',\n",
       " 'exploreeverything',\n",
       " 'scotlandtravel']"
      ]
     },
     "execution_count": 235,
     "metadata": {},
     "output_type": "execute_result"
    }
   ],
   "source": [
    "data[0]"
   ]
  },
  {
   "cell_type": "code",
   "execution_count": 236,
   "metadata": {
    "execution": {
     "iopub.execute_input": "2024-01-05T11:25:46.876627Z",
     "iopub.status.busy": "2024-01-05T11:25:46.876295Z",
     "iopub.status.idle": "2024-01-05T11:25:46.885066Z",
     "shell.execute_reply": "2024-01-05T11:25:46.884167Z",
     "shell.execute_reply.started": "2024-01-05T11:25:46.876602Z"
    }
   },
   "outputs": [
    {
     "data": {
      "text/plain": [
       "['view',\n",
       " 'conic',\n",
       " 'hill',\n",
       " 'blue',\n",
       " 'bird',\n",
       " 'day',\n",
       " 'sun',\n",
       " '️',\n",
       " 'scottishhighland',\n",
       " 'scotland',\n",
       " 'scottishhighland',\n",
       " 'welivetoexplore',\n",
       " 'lovescotland',\n",
       " 'trossachs',\n",
       " 'visitscotland',\n",
       " 'exploremore',\n",
       " 'scotland',\n",
       " 'thediscoverer',\n",
       " 'earthfocus',\n",
       " 'earthoutdoor',\n",
       " 'neverstopexplore',\n",
       " 'scotlandexplore',\n",
       " 'hiddenscotland',\n",
       " 'welivetodiscover',\n",
       " 'conichill',\n",
       " 'lovesscotland',\n",
       " 'exploreeverything',\n",
       " 'scotlandtravel']"
      ]
     },
     "execution_count": 236,
     "metadata": {},
     "output_type": "execute_result"
    }
   ],
   "source": [
    "data[0]"
   ]
  },
  {
   "cell_type": "code",
   "execution_count": 237,
   "metadata": {
    "execution": {
     "iopub.execute_input": "2024-01-05T11:25:46.886508Z",
     "iopub.status.busy": "2024-01-05T11:25:46.886160Z",
     "iopub.status.idle": "2024-01-05T11:25:46.896117Z",
     "shell.execute_reply": "2024-01-05T11:25:46.895001Z",
     "shell.execute_reply.started": "2024-01-05T11:25:46.886476Z"
    }
   },
   "outputs": [],
   "source": [
    "make_corpus(data)"
   ]
  },
  {
   "cell_type": "code",
   "execution_count": 238,
   "metadata": {
    "execution": {
     "iopub.execute_input": "2024-01-05T11:25:46.897431Z",
     "iopub.status.busy": "2024-01-05T11:25:46.897152Z",
     "iopub.status.idle": "2024-01-05T11:25:46.907727Z",
     "shell.execute_reply": "2024-01-05T11:25:46.906851Z",
     "shell.execute_reply.started": "2024-01-05T11:25:46.897400Z"
    }
   },
   "outputs": [
    {
     "data": {
      "text/plain": [
       "6310"
      ]
     },
     "execution_count": 238,
     "metadata": {},
     "output_type": "execute_result"
    }
   ],
   "source": [
    "len(corpus[0])"
   ]
  },
  {
   "cell_type": "code",
   "execution_count": 239,
   "metadata": {
    "execution": {
     "iopub.execute_input": "2024-01-05T11:25:46.909155Z",
     "iopub.status.busy": "2024-01-05T11:25:46.908880Z",
     "iopub.status.idle": "2024-01-05T11:25:46.918046Z",
     "shell.execute_reply": "2024-01-05T11:25:46.917178Z",
     "shell.execute_reply.started": "2024-01-05T11:25:46.909132Z"
    }
   },
   "outputs": [
    {
     "data": {
      "text/plain": [
       "['view',\n",
       " 'conic',\n",
       " 'hill',\n",
       " 'blue',\n",
       " 'bird',\n",
       " 'day',\n",
       " 'sun',\n",
       " '️',\n",
       " 'scottishhighland',\n",
       " 'scotland',\n",
       " 'scottishhighland',\n",
       " 'welivetoexplore',\n",
       " 'lovescotland',\n",
       " 'trossachs',\n",
       " 'visitscotland',\n",
       " 'exploremore',\n",
       " 'scotland',\n",
       " 'thediscoverer',\n",
       " 'earthfocus',\n",
       " 'earthoutdoor',\n",
       " 'neverstopexplore',\n",
       " 'scotlandexplore',\n",
       " 'hiddenscotland',\n",
       " 'welivetodiscover',\n",
       " 'conichill',\n",
       " 'lovesscotland',\n",
       " 'exploreeverything',\n",
       " 'scotlandtravel']"
      ]
     },
     "execution_count": 239,
     "metadata": {},
     "output_type": "execute_result"
    }
   ],
   "source": [
    "corpus[0][0]"
   ]
  },
  {
   "cell_type": "code",
   "execution_count": 1,
   "metadata": {},
   "outputs": [],
   "source": [
    "from gensim.models import FastText"
   ]
  },
  {
   "cell_type": "code",
   "execution_count": 241,
   "metadata": {
    "execution": {
     "iopub.execute_input": "2024-01-05T11:25:46.928269Z",
     "iopub.status.busy": "2024-01-05T11:25:46.927971Z",
     "iopub.status.idle": "2024-01-05T11:25:46.936747Z",
     "shell.execute_reply": "2024-01-05T11:25:46.935887Z",
     "shell.execute_reply.started": "2024-01-05T11:25:46.928234Z"
    }
   },
   "outputs": [],
   "source": [
    "model4 = FastText(vector_size=512, window=10, min_count=1, hs=1, sg=0)"
   ]
  },
  {
   "cell_type": "code",
   "execution_count": 242,
   "metadata": {
    "execution": {
     "iopub.execute_input": "2024-01-05T11:25:46.938049Z",
     "iopub.status.busy": "2024-01-05T11:25:46.937776Z",
     "iopub.status.idle": "2024-01-05T11:25:55.794660Z",
     "shell.execute_reply": "2024-01-05T11:25:55.793768Z",
     "shell.execute_reply.started": "2024-01-05T11:25:46.938025Z"
    }
   },
   "outputs": [],
   "source": [
    "model4.build_vocab(corpus_iterable=data) "
   ]
  },
  {
   "cell_type": "code",
   "execution_count": 243,
   "metadata": {
    "execution": {
     "iopub.execute_input": "2024-01-05T11:25:55.796747Z",
     "iopub.status.busy": "2024-01-05T11:25:55.795910Z",
     "iopub.status.idle": "2024-01-05T11:25:55.801091Z",
     "shell.execute_reply": "2024-01-05T11:25:55.800057Z",
     "shell.execute_reply.started": "2024-01-05T11:25:55.796706Z"
    }
   },
   "outputs": [],
   "source": [
    "total_words = model4.corpus_total_words"
   ]
  },
  {
   "cell_type": "code",
   "execution_count": 244,
   "metadata": {
    "execution": {
     "iopub.execute_input": "2024-01-05T11:25:55.802670Z",
     "iopub.status.busy": "2024-01-05T11:25:55.802319Z",
     "iopub.status.idle": "2024-01-05T12:00:31.649883Z",
     "shell.execute_reply": "2024-01-05T12:00:31.647052Z",
     "shell.execute_reply.started": "2024-01-05T11:25:55.802637Z"
    }
   },
   "outputs": [
    {
     "data": {
      "text/plain": [
       "(31915652, 34082800)"
      ]
     },
     "execution_count": 244,
     "metadata": {},
     "output_type": "execute_result"
    }
   ],
   "source": [
    "model4.train(corpus_iterable=data, total_words=total_words, epochs=100)"
   ]
  },
  {
   "cell_type": "code",
   "execution_count": 3,
   "metadata": {},
   "outputs": [],
   "source": [
    "from gensim.test.utils import get_tmpfile\n",
    "\n",
    "fname = get_tmpfile(\"saved_fasttext_model\")"
   ]
  },
  {
   "cell_type": "code",
   "execution_count": 249,
   "metadata": {
    "execution": {
     "iopub.execute_input": "2024-01-05T12:05:46.731622Z",
     "iopub.status.busy": "2024-01-05T12:05:46.730622Z",
     "iopub.status.idle": "2024-01-05T12:05:56.607286Z",
     "shell.execute_reply": "2024-01-05T12:05:56.606323Z",
     "shell.execute_reply.started": "2024-01-05T12:05:46.731587Z"
    }
   },
   "outputs": [],
   "source": [
    "from gensim.test.utils import get_tmpfile\n",
    "\n",
    "fname = get_tmpfile(\"fasttext.model\")\n",
    "model4.save(fname)\n",
    "\n",
    "# model = FastText.load(fname)"
   ]
  },
  {
   "cell_type": "code",
   "execution_count": 254,
   "metadata": {
    "execution": {
     "iopub.execute_input": "2024-01-05T12:09:19.299193Z",
     "iopub.status.busy": "2024-01-05T12:09:19.298783Z",
     "iopub.status.idle": "2024-01-05T12:09:28.516549Z",
     "shell.execute_reply": "2024-01-05T12:09:28.515507Z",
     "shell.execute_reply.started": "2024-01-05T12:09:19.299163Z"
    }
   },
   "outputs": [],
   "source": [
    "model4.save('saved_fasttext_model')"
   ]
  },
  {
   "cell_type": "code",
   "execution_count": 4,
   "metadata": {},
   "outputs": [],
   "source": [
    "# model = FastText.load(fname)\n",
    "model = FastText.load('saved_fasttext_model')"
   ]
  },
  {
   "cell_type": "code",
   "execution_count": 5,
   "metadata": {},
   "outputs": [
    {
     "data": {
      "text/plain": [
       "[('alike', 0.5782839059829712),\n",
       " ('liked', 0.5333564281463623),\n",
       " ('likesforlike', 0.42753514647483826),\n",
       " ('dreamlike', 0.37987831234931946),\n",
       " ('unlike', 0.36403408646583557),\n",
       " ('vike', 0.3431723713874817),\n",
       " ('forward', 0.30891838669776917),\n",
       " ('pike', 0.3065967559814453),\n",
       " ('likely', 0.2712731659412384),\n",
       " ('isolated', 0.2626681625843048)]"
      ]
     },
     "execution_count": 5,
     "metadata": {},
     "output_type": "execute_result"
    }
   ],
   "source": [
    "model.wv.most_similar('like')"
   ]
  },
  {
   "cell_type": "code",
   "execution_count": 246,
   "metadata": {
    "execution": {
     "iopub.execute_input": "2024-01-05T12:00:31.694025Z",
     "iopub.status.busy": "2024-01-05T12:00:31.692990Z",
     "iopub.status.idle": "2024-01-05T12:00:31.705860Z",
     "shell.execute_reply": "2024-01-05T12:00:31.703765Z",
     "shell.execute_reply.started": "2024-01-05T12:00:31.693969Z"
    }
   },
   "outputs": [],
   "source": [
    "vocab = model4.wv.index_to_key\n",
    "# vocab = list(vocab.wv.index_to_key_list())"
   ]
  },
  {
   "cell_type": "code",
   "execution_count": 107,
   "metadata": {
    "execution": {
     "iopub.execute_input": "2024-01-05T10:44:18.442745Z",
     "iopub.status.busy": "2024-01-05T10:44:18.442297Z",
     "iopub.status.idle": "2024-01-05T10:44:18.448689Z",
     "shell.execute_reply": "2024-01-05T10:44:18.447707Z",
     "shell.execute_reply.started": "2024-01-05T10:44:18.442715Z"
    }
   },
   "outputs": [
    {
     "data": {
      "text/plain": [
       "18800"
      ]
     },
     "execution_count": 107,
     "metadata": {},
     "output_type": "execute_result"
    }
   ],
   "source": [
    "len(vocab)"
   ]
  },
  {
   "cell_type": "code",
   "execution_count": 108,
   "metadata": {
    "execution": {
     "iopub.execute_input": "2024-01-05T10:44:18.810538Z",
     "iopub.status.busy": "2024-01-05T10:44:18.810201Z",
     "iopub.status.idle": "2024-01-05T10:44:18.814653Z",
     "shell.execute_reply": "2024-01-05T10:44:18.813694Z",
     "shell.execute_reply.started": "2024-01-05T10:44:18.810510Z"
    }
   },
   "outputs": [],
   "source": [
    "# vocab"
   ]
  },
  {
   "cell_type": "code",
   "execution_count": 109,
   "metadata": {
    "execution": {
     "iopub.execute_input": "2024-01-05T10:44:19.372050Z",
     "iopub.status.busy": "2024-01-05T10:44:19.371653Z",
     "iopub.status.idle": "2024-01-05T10:44:19.379514Z",
     "shell.execute_reply": "2024-01-05T10:44:19.378498Z",
     "shell.execute_reply.started": "2024-01-05T10:44:19.372018Z"
    }
   },
   "outputs": [],
   "source": [
    "maxlen=-1\n",
    "for i in data:\n",
    "    if len(i) > maxlen:\n",
    "        maxlen = len(i)\n",
    "        "
   ]
  },
  {
   "cell_type": "code",
   "execution_count": 110,
   "metadata": {
    "execution": {
     "iopub.execute_input": "2024-01-05T10:44:19.833200Z",
     "iopub.status.busy": "2024-01-05T10:44:19.832815Z",
     "iopub.status.idle": "2024-01-05T10:44:19.839255Z",
     "shell.execute_reply": "2024-01-05T10:44:19.838227Z",
     "shell.execute_reply.started": "2024-01-05T10:44:19.833166Z"
    }
   },
   "outputs": [
    {
     "data": {
      "text/plain": [
       "333"
      ]
     },
     "execution_count": 110,
     "metadata": {},
     "output_type": "execute_result"
    }
   ],
   "source": [
    "maxlen"
   ]
  },
  {
   "cell_type": "code",
   "execution_count": 111,
   "metadata": {
    "execution": {
     "iopub.execute_input": "2024-01-05T10:44:20.281078Z",
     "iopub.status.busy": "2024-01-05T10:44:20.280711Z",
     "iopub.status.idle": "2024-01-05T10:44:20.285855Z",
     "shell.execute_reply": "2024-01-05T10:44:20.284748Z",
     "shell.execute_reply.started": "2024-01-05T10:44:20.281044Z"
    }
   },
   "outputs": [],
   "source": [
    "from keras.preprocessing.text import one_hot,Tokenizer\n",
    "tok = Tokenizer()"
   ]
  },
  {
   "cell_type": "code",
   "execution_count": 112,
   "metadata": {
    "execution": {
     "iopub.execute_input": "2024-01-05T10:44:20.900705Z",
     "iopub.status.busy": "2024-01-05T10:44:20.900371Z",
     "iopub.status.idle": "2024-01-05T10:44:20.913329Z",
     "shell.execute_reply": "2024-01-05T10:44:20.912326Z",
     "shell.execute_reply.started": "2024-01-05T10:44:20.900677Z"
    }
   },
   "outputs": [
    {
     "data": {
      "text/plain": [
       "caption             0\n",
       "displayUrl          0\n",
       "hashtags            0\n",
       "likesCount          0\n",
       "combined_text       0\n",
       "tags             6311\n",
       "tags_2              0\n",
       "dtype: int64"
      ]
     },
     "execution_count": 112,
     "metadata": {},
     "output_type": "execute_result"
    }
   ],
   "source": [
    "df.isnull().sum()"
   ]
  },
  {
   "cell_type": "code",
   "execution_count": 117,
   "metadata": {
    "execution": {
     "iopub.execute_input": "2024-01-05T10:44:41.130234Z",
     "iopub.status.busy": "2024-01-05T10:44:41.129240Z",
     "iopub.status.idle": "2024-01-05T10:44:41.143247Z",
     "shell.execute_reply": "2024-01-05T10:44:41.142311Z",
     "shell.execute_reply.started": "2024-01-05T10:44:41.130196Z"
    }
   },
   "outputs": [
    {
     "data": {
      "text/html": [
       "<div>\n",
       "<style scoped>\n",
       "    .dataframe tbody tr th:only-of-type {\n",
       "        vertical-align: middle;\n",
       "    }\n",
       "\n",
       "    .dataframe tbody tr th {\n",
       "        vertical-align: top;\n",
       "    }\n",
       "\n",
       "    .dataframe thead th {\n",
       "        text-align: right;\n",
       "    }\n",
       "</style>\n",
       "<table border=\"1\" class=\"dataframe\">\n",
       "  <thead>\n",
       "    <tr style=\"text-align: right;\">\n",
       "      <th></th>\n",
       "      <th>caption</th>\n",
       "      <th>displayUrl</th>\n",
       "      <th>hashtags</th>\n",
       "      <th>likesCount</th>\n",
       "      <th>combined_text</th>\n",
       "      <th>tags</th>\n",
       "      <th>tags_2</th>\n",
       "    </tr>\n",
       "  </thead>\n",
       "  <tbody>\n",
       "    <tr>\n",
       "      <th>0</th>\n",
       "      <td>Views from Conic hill on a blue bird day ☀️ \\n...</td>\n",
       "      <td>https://instagram.fadb7-1.fna.fbcdn.net/v/t51....</td>\n",
       "      <td>scottishhighlands welivetoexplore lovescotland...</td>\n",
       "      <td>145.0</td>\n",
       "      <td>view conic hill blue bird day    sun    ️     ...</td>\n",
       "      <td>None</td>\n",
       "      <td>view conic hill blue bird day sun ️ scottishhi...</td>\n",
       "    </tr>\n",
       "    <tr>\n",
       "      <th>1</th>\n",
       "      <td>Today we went down into the forest and picked ...</td>\n",
       "      <td>https://scontent-sea1-1.cdninstagram.com/v/t51...</td>\n",
       "      <td>northumberlandnationalpark forestryengland for...</td>\n",
       "      <td>135.0</td>\n",
       "      <td>today go forest pick year christmas tree    Ch...</td>\n",
       "      <td>None</td>\n",
       "      <td>today go forest pick year christmas tree Chris...</td>\n",
       "    </tr>\n",
       "    <tr>\n",
       "      <th>2</th>\n",
       "      <td>Throwback to this gorgeous morning over Ullswa...</td>\n",
       "      <td>https://instagram.fjnb2-1.fna.fbcdn.net/v/t51....</td>\n",
       "      <td>lakedistrict thelakedistrict cumbria welivetoe...</td>\n",
       "      <td>196.0</td>\n",
       "      <td>throwback gorgeous morning ullswater fresh dus...</td>\n",
       "      <td>None</td>\n",
       "      <td>throwback gorgeous morning ullswater fresh dus...</td>\n",
       "    </tr>\n",
       "    <tr>\n",
       "      <th>3</th>\n",
       "      <td>Fog making for some whimsical forest wanders ✨...</td>\n",
       "      <td>https://scontent-zrh1-1.cdninstagram.com/v/t51...</td>\n",
       "      <td>lakedistrict forestryengland whinlatter folkgr...</td>\n",
       "      <td>172.0</td>\n",
       "      <td>fog make whimsical forest wander    sparkle   ...</td>\n",
       "      <td>None</td>\n",
       "      <td>fog make whimsical forest wander sparkle laked...</td>\n",
       "    </tr>\n",
       "    <tr>\n",
       "      <th>4</th>\n",
       "      <td>Just back from a glorious few days in the Tros...</td>\n",
       "      <td>https://instagram.fruh2-1.fna.fbcdn.net/v/t51....</td>\n",
       "      <td>neverstopexploring everydaylifeoutdoors explor...</td>\n",
       "      <td>200.0</td>\n",
       "      <td>back glorious day trossachs explore    eat pie...</td>\n",
       "      <td>None</td>\n",
       "      <td>back glorious day trossachs explore eat pie wa...</td>\n",
       "    </tr>\n",
       "  </tbody>\n",
       "</table>\n",
       "</div>"
      ],
      "text/plain": [
       "                                             caption  \\\n",
       "0  Views from Conic hill on a blue bird day ☀️ \\n...   \n",
       "1  Today we went down into the forest and picked ...   \n",
       "2  Throwback to this gorgeous morning over Ullswa...   \n",
       "3  Fog making for some whimsical forest wanders ✨...   \n",
       "4  Just back from a glorious few days in the Tros...   \n",
       "\n",
       "                                          displayUrl  \\\n",
       "0  https://instagram.fadb7-1.fna.fbcdn.net/v/t51....   \n",
       "1  https://scontent-sea1-1.cdninstagram.com/v/t51...   \n",
       "2  https://instagram.fjnb2-1.fna.fbcdn.net/v/t51....   \n",
       "3  https://scontent-zrh1-1.cdninstagram.com/v/t51...   \n",
       "4  https://instagram.fruh2-1.fna.fbcdn.net/v/t51....   \n",
       "\n",
       "                                            hashtags  likesCount  \\\n",
       "0  scottishhighlands welivetoexplore lovescotland...       145.0   \n",
       "1  northumberlandnationalpark forestryengland for...       135.0   \n",
       "2  lakedistrict thelakedistrict cumbria welivetoe...       196.0   \n",
       "3  lakedistrict forestryengland whinlatter folkgr...       172.0   \n",
       "4  neverstopexploring everydaylifeoutdoors explor...       200.0   \n",
       "\n",
       "                                       combined_text  tags  \\\n",
       "0  view conic hill blue bird day    sun    ️     ...  None   \n",
       "1  today go forest pick year christmas tree    Ch...  None   \n",
       "2  throwback gorgeous morning ullswater fresh dus...  None   \n",
       "3  fog make whimsical forest wander    sparkle   ...  None   \n",
       "4  back glorious day trossachs explore    eat pie...  None   \n",
       "\n",
       "                                              tags_2  \n",
       "0  view conic hill blue bird day sun ️ scottishhi...  \n",
       "1  today go forest pick year christmas tree Chris...  \n",
       "2  throwback gorgeous morning ullswater fresh dus...  \n",
       "3  fog make whimsical forest wander sparkle laked...  \n",
       "4  back glorious day trossachs explore eat pie wa...  "
      ]
     },
     "execution_count": 117,
     "metadata": {},
     "output_type": "execute_result"
    }
   ],
   "source": [
    "df.head()"
   ]
  },
  {
   "cell_type": "code",
   "execution_count": 118,
   "metadata": {
    "execution": {
     "iopub.execute_input": "2024-01-05T10:45:03.123434Z",
     "iopub.status.busy": "2024-01-05T10:45:03.122539Z",
     "iopub.status.idle": "2024-01-05T10:45:03.556943Z",
     "shell.execute_reply": "2024-01-05T10:45:03.555853Z",
     "shell.execute_reply.started": "2024-01-05T10:45:03.123396Z"
    }
   },
   "outputs": [],
   "source": [
    "tok.fit_on_texts(df['tags_2'])\n"
   ]
  },
  {
   "cell_type": "code",
   "execution_count": 119,
   "metadata": {
    "execution": {
     "iopub.execute_input": "2024-01-05T10:45:03.559010Z",
     "iopub.status.busy": "2024-01-05T10:45:03.558711Z",
     "iopub.status.idle": "2024-01-05T10:45:03.563488Z",
     "shell.execute_reply": "2024-01-05T10:45:03.562382Z",
     "shell.execute_reply.started": "2024-01-05T10:45:03.558984Z"
    }
   },
   "outputs": [],
   "source": [
    "vocab_size = len(tok.word_index) + 1"
   ]
  },
  {
   "cell_type": "code",
   "execution_count": 120,
   "metadata": {
    "execution": {
     "iopub.execute_input": "2024-01-05T10:45:03.564916Z",
     "iopub.status.busy": "2024-01-05T10:45:03.564598Z",
     "iopub.status.idle": "2024-01-05T10:45:03.902442Z",
     "shell.execute_reply": "2024-01-05T10:45:03.901646Z",
     "shell.execute_reply.started": "2024-01-05T10:45:03.564890Z"
    }
   },
   "outputs": [],
   "source": [
    "encd_revs = tok.texts_to_sequences(df['tags_2'])"
   ]
  },
  {
   "cell_type": "code",
   "execution_count": 121,
   "metadata": {
    "execution": {
     "iopub.execute_input": "2024-01-05T10:45:03.904308Z",
     "iopub.status.busy": "2024-01-05T10:45:03.904016Z",
     "iopub.status.idle": "2024-01-05T10:45:03.908501Z",
     "shell.execute_reply": "2024-01-05T10:45:03.907496Z",
     "shell.execute_reply.started": "2024-01-05T10:45:03.904280Z"
    }
   },
   "outputs": [],
   "source": [
    "from keras.preprocessing.sequence import pad_sequences\n"
   ]
  },
  {
   "cell_type": "code",
   "execution_count": 122,
   "metadata": {
    "execution": {
     "iopub.execute_input": "2024-01-05T10:45:04.075505Z",
     "iopub.status.busy": "2024-01-05T10:45:04.074775Z",
     "iopub.status.idle": "2024-01-05T10:45:04.130481Z",
     "shell.execute_reply": "2024-01-05T10:45:04.129627Z",
     "shell.execute_reply.started": "2024-01-05T10:45:04.075477Z"
    }
   },
   "outputs": [],
   "source": [
    "pad_revs = pad_sequences(encd_revs, maxlen=maxlen, padding='post')"
   ]
  },
  {
   "cell_type": "code",
   "execution_count": 123,
   "metadata": {
    "execution": {
     "iopub.execute_input": "2024-01-05T10:45:05.738556Z",
     "iopub.status.busy": "2024-01-05T10:45:05.737655Z",
     "iopub.status.idle": "2024-01-05T10:45:05.745637Z",
     "shell.execute_reply": "2024-01-05T10:45:05.744679Z",
     "shell.execute_reply.started": "2024-01-05T10:45:05.738519Z"
    }
   },
   "outputs": [
    {
     "data": {
      "text/plain": [
       "array([  570, 12998,   336,   701,   850,    32,   428,    33,  2368,\n",
       "         439,  2368,   393,  4403,  2178,   385,    68,   439,   724,\n",
       "         210,  2834,   266,  1190,   919,  4745, 12999,  8952,   702,\n",
       "        6007,     0,     0,     0,     0,     0,     0,     0,     0,\n",
       "           0,     0,     0,     0,     0,     0,     0,     0,     0,\n",
       "           0,     0,     0,     0,     0,     0,     0,     0,     0,\n",
       "           0,     0,     0,     0,     0,     0,     0,     0,     0,\n",
       "           0,     0,     0,     0,     0,     0,     0,     0,     0,\n",
       "           0,     0,     0,     0,     0,     0,     0,     0,     0,\n",
       "           0,     0,     0,     0,     0,     0,     0,     0,     0,\n",
       "           0,     0,     0,     0,     0,     0,     0,     0,     0,\n",
       "           0,     0,     0,     0,     0,     0,     0,     0,     0,\n",
       "           0,     0,     0,     0,     0,     0,     0,     0,     0,\n",
       "           0,     0,     0,     0,     0,     0,     0,     0,     0,\n",
       "           0,     0,     0,     0,     0,     0,     0,     0,     0,\n",
       "           0,     0,     0,     0,     0,     0,     0,     0,     0,\n",
       "           0,     0,     0,     0,     0,     0,     0,     0,     0,\n",
       "           0,     0,     0,     0,     0,     0,     0,     0,     0,\n",
       "           0,     0,     0,     0,     0,     0,     0,     0,     0,\n",
       "           0,     0,     0,     0,     0,     0,     0,     0,     0,\n",
       "           0,     0,     0,     0,     0,     0,     0,     0,     0,\n",
       "           0,     0,     0,     0,     0,     0,     0,     0,     0,\n",
       "           0,     0,     0,     0,     0,     0,     0,     0,     0,\n",
       "           0,     0,     0,     0,     0,     0,     0,     0,     0,\n",
       "           0,     0,     0,     0,     0,     0,     0,     0,     0,\n",
       "           0,     0,     0,     0,     0,     0,     0,     0,     0,\n",
       "           0,     0,     0,     0,     0,     0,     0,     0,     0,\n",
       "           0,     0,     0,     0,     0,     0,     0,     0,     0,\n",
       "           0,     0,     0,     0,     0,     0,     0,     0,     0,\n",
       "           0,     0,     0,     0,     0,     0,     0,     0,     0,\n",
       "           0,     0,     0,     0,     0,     0,     0,     0,     0,\n",
       "           0,     0,     0,     0,     0,     0,     0,     0,     0,\n",
       "           0,     0,     0,     0,     0,     0,     0,     0,     0,\n",
       "           0,     0,     0,     0,     0,     0,     0,     0,     0,\n",
       "           0,     0,     0,     0,     0,     0,     0,     0,     0,\n",
       "           0,     0,     0,     0,     0,     0,     0,     0,     0,\n",
       "           0,     0,     0,     0,     0,     0,     0,     0,     0],\n",
       "      dtype=int32)"
      ]
     },
     "execution_count": 123,
     "metadata": {},
     "output_type": "execute_result"
    }
   ],
   "source": [
    "pad_revs[0]"
   ]
  },
  {
   "cell_type": "code",
   "execution_count": 125,
   "metadata": {
    "execution": {
     "iopub.execute_input": "2024-01-05T10:45:10.624785Z",
     "iopub.status.busy": "2024-01-05T10:45:10.624058Z",
     "iopub.status.idle": "2024-01-05T10:45:10.628810Z",
     "shell.execute_reply": "2024-01-05T10:45:10.627769Z",
     "shell.execute_reply.started": "2024-01-05T10:45:10.624753Z"
    }
   },
   "outputs": [],
   "source": [
    "embd_dims =  512"
   ]
  },
  {
   "cell_type": "code",
   "execution_count": 126,
   "metadata": {
    "execution": {
     "iopub.execute_input": "2024-01-05T10:45:12.479347Z",
     "iopub.status.busy": "2024-01-05T10:45:12.478968Z",
     "iopub.status.idle": "2024-01-05T10:45:12.534927Z",
     "shell.execute_reply": "2024-01-05T10:45:12.534170Z",
     "shell.execute_reply.started": "2024-01-05T10:45:12.479310Z"
    }
   },
   "outputs": [],
   "source": [
    "word_vec_dict = {}\n",
    "\n",
    "for word in vocab:\n",
    "    word_vec_dict[word] = model4.wv.get_vector(word)"
   ]
  },
  {
   "cell_type": "code",
   "execution_count": 127,
   "metadata": {
    "execution": {
     "iopub.execute_input": "2024-01-05T10:45:12.700566Z",
     "iopub.status.busy": "2024-01-05T10:45:12.700241Z",
     "iopub.status.idle": "2024-01-05T10:45:16.313557Z",
     "shell.execute_reply": "2024-01-05T10:45:16.312646Z",
     "shell.execute_reply.started": "2024-01-05T10:45:12.700538Z"
    }
   },
   "outputs": [],
   "source": [
    "embd_matrix = np.zeros(shape=(vocab_size, embd_dims))\n",
    "for word, i in tok.word_index.items():\n",
    "    if word in vocab:\n",
    "        embd = word_vec_dict[word]\n",
    "        if embd is not None:\n",
    "            embd_matrix[i]=embd"
   ]
  },
  {
   "cell_type": "code",
   "execution_count": 128,
   "metadata": {
    "execution": {
     "iopub.execute_input": "2024-01-05T10:45:16.316019Z",
     "iopub.status.busy": "2024-01-05T10:45:16.315336Z",
     "iopub.status.idle": "2024-01-05T10:45:17.461558Z",
     "shell.execute_reply": "2024-01-05T10:45:17.460554Z",
     "shell.execute_reply.started": "2024-01-05T10:45:16.315980Z"
    }
   },
   "outputs": [],
   "source": [
    "model_lstm=Sequential()\n",
    "model_lstm.add(Embedding(input_dim=vocab_size,output_dim=embd_dims,input_length=maxlen,embeddings_initializer=Constant(embd_matrix)))\n",
    "model_lstm.add(Bidirectional(LSTM(100, return_sequences=True)))\n",
    "model_lstm.add(Bidirectional(LSTM(100)))\n",
    "model_lstm.add(Flatten())\n",
    "# model.add(Dense(128))\n",
    "# model.add(Dense())"
   ]
  },
  {
   "cell_type": "code",
   "execution_count": 129,
   "metadata": {
    "execution": {
     "iopub.execute_input": "2024-01-05T10:45:25.736195Z",
     "iopub.status.busy": "2024-01-05T10:45:25.735808Z",
     "iopub.status.idle": "2024-01-05T10:45:25.759791Z",
     "shell.execute_reply": "2024-01-05T10:45:25.758868Z",
     "shell.execute_reply.started": "2024-01-05T10:45:25.736161Z"
    }
   },
   "outputs": [
    {
     "name": "stdout",
     "output_type": "stream",
     "text": [
      "Model: \"sequential_1\"\n",
      "_________________________________________________________________\n",
      " Layer (type)                Output Shape              Param #   \n",
      "=================================================================\n",
      " embedding (Embedding)       (None, 333, 512)          9621504   \n",
      "                                                                 \n",
      " bidirectional (Bidirection  (None, 333, 200)          490400    \n",
      " al)                                                             \n",
      "                                                                 \n",
      " bidirectional_1 (Bidirecti  (None, 200)               240800    \n",
      " onal)                                                           \n",
      "                                                                 \n",
      " flatten_1 (Flatten)         (None, 200)               0         \n",
      "                                                                 \n",
      "=================================================================\n",
      "Total params: 10352704 (39.49 MB)\n",
      "Trainable params: 10352704 (39.49 MB)\n",
      "Non-trainable params: 0 (0.00 Byte)\n",
      "_________________________________________________________________\n"
     ]
    }
   ],
   "source": [
    "model_lstm.summary()"
   ]
  },
  {
   "cell_type": "code",
   "execution_count": 147,
   "metadata": {
    "execution": {
     "iopub.execute_input": "2024-01-05T10:48:10.506982Z",
     "iopub.status.busy": "2024-01-05T10:48:10.506192Z",
     "iopub.status.idle": "2024-01-05T10:48:10.904363Z",
     "shell.execute_reply": "2024-01-05T10:48:10.903497Z",
     "shell.execute_reply.started": "2024-01-05T10:48:10.506946Z"
    }
   },
   "outputs": [
    {
     "name": "stderr",
     "output_type": "stream",
     "text": [
      "/tmp/ipykernel_42/2612341092.py:2: UserWarning: \n",
      "\n",
      "`distplot` is a deprecated function and will be removed in seaborn v0.14.0.\n",
      "\n",
      "Please adapt your code to use either `displot` (a figure-level function with\n",
      "similar flexibility) or `histplot` (an axes-level function for histograms).\n",
      "\n",
      "For a guide to updating your code to use the new functions, please see\n",
      "https://gist.github.com/mwaskom/de44147ed2974457ad6372750bbe5751\n",
      "\n",
      "  sns.distplot(df['likesCount'], kde=True)\n",
      "/opt/conda/lib/python3.10/site-packages/seaborn/_oldcore.py:1119: FutureWarning: use_inf_as_na option is deprecated and will be removed in a future version. Convert inf values to NaN before operating instead.\n",
      "  with pd.option_context('mode.use_inf_as_na', True):\n"
     ]
    },
    {
     "data": {
      "image/png": "[encoded data removed]",
      "text/plain": [
       "<Figure size 640x480 with 1 Axes>"
      ]
     },
     "metadata": {},
     "output_type": "display_data"
    }
   ],
   "source": [
    "import seaborn as sns\n",
    "sns.distplot(df['likesCount'], kde=True)\n",
    "score = df['likesCount']"
   ]
  },
  {
   "cell_type": "code",
   "execution_count": 140,
   "metadata": {
    "execution": {
     "iopub.execute_input": "2024-01-05T10:48:02.383769Z",
     "iopub.status.busy": "2024-01-05T10:48:02.382886Z",
     "iopub.status.idle": "2024-01-05T10:48:02.387422Z",
     "shell.execute_reply": "2024-01-05T10:48:02.386504Z",
     "shell.execute_reply.started": "2024-01-05T10:48:02.383733Z"
    }
   },
   "outputs": [],
   "source": [
    "# import seaborn as sns\n",
    "# sns.distplot(score['likesCount'], kde=True)"
   ]
  },
  {
   "cell_type": "code",
   "execution_count": 141,
   "metadata": {
    "execution": {
     "iopub.execute_input": "2024-01-05T10:48:03.910465Z",
     "iopub.status.busy": "2024-01-05T10:48:03.909559Z",
     "iopub.status.idle": "2024-01-05T10:48:03.916314Z",
     "shell.execute_reply": "2024-01-05T10:48:03.915329Z",
     "shell.execute_reply.started": "2024-01-05T10:48:03.910426Z"
    }
   },
   "outputs": [
    {
     "data": {
      "text/plain": [
       "(6311,)"
      ]
     },
     "execution_count": 141,
     "metadata": {},
     "output_type": "execute_result"
    }
   ],
   "source": [
    "score.shape"
   ]
  },
  {
   "cell_type": "code",
   "execution_count": 142,
   "metadata": {
    "execution": {
     "iopub.execute_input": "2024-01-05T10:48:05.768051Z",
     "iopub.status.busy": "2024-01-05T10:48:05.767071Z",
     "iopub.status.idle": "2024-01-05T10:48:05.772338Z",
     "shell.execute_reply": "2024-01-05T10:48:05.771243Z",
     "shell.execute_reply.started": "2024-01-05T10:48:05.768014Z"
    }
   },
   "outputs": [],
   "source": [
    "from sklearn.preprocessing import PowerTransformer"
   ]
  },
  {
   "cell_type": "code",
   "execution_count": 143,
   "metadata": {
    "execution": {
     "iopub.execute_input": "2024-01-05T10:48:05.941337Z",
     "iopub.status.busy": "2024-01-05T10:48:05.941066Z",
     "iopub.status.idle": "2024-01-05T10:48:05.945334Z",
     "shell.execute_reply": "2024-01-05T10:48:05.944415Z",
     "shell.execute_reply.started": "2024-01-05T10:48:05.941313Z"
    }
   },
   "outputs": [],
   "source": [
    "pt_trnf = PowerTransformer()"
   ]
  },
  {
   "cell_type": "code",
   "execution_count": 144,
   "metadata": {
    "execution": {
     "iopub.execute_input": "2024-01-05T10:48:06.109083Z",
     "iopub.status.busy": "2024-01-05T10:48:06.108781Z",
     "iopub.status.idle": "2024-01-05T10:48:06.120687Z",
     "shell.execute_reply": "2024-01-05T10:48:06.119733Z",
     "shell.execute_reply.started": "2024-01-05T10:48:06.109039Z"
    }
   },
   "outputs": [],
   "source": [
    "score_trnf = pt_trnf.fit_transform(score.values.reshape(-1,1))"
   ]
  },
  {
   "cell_type": "code",
   "execution_count": 145,
   "metadata": {
    "execution": {
     "iopub.execute_input": "2024-01-05T10:48:06.272037Z",
     "iopub.status.busy": "2024-01-05T10:48:06.271790Z",
     "iopub.status.idle": "2024-01-05T10:48:06.277321Z",
     "shell.execute_reply": "2024-01-05T10:48:06.276405Z",
     "shell.execute_reply.started": "2024-01-05T10:48:06.272015Z"
    }
   },
   "outputs": [
    {
     "data": {
      "text/plain": [
       "6311"
      ]
     },
     "execution_count": 145,
     "metadata": {},
     "output_type": "execute_result"
    }
   ],
   "source": [
    "len(score_trnf)"
   ]
  },
  {
   "cell_type": "code",
   "execution_count": 146,
   "metadata": {
    "execution": {
     "iopub.execute_input": "2024-01-05T10:48:06.419908Z",
     "iopub.status.busy": "2024-01-05T10:48:06.419645Z",
     "iopub.status.idle": "2024-01-05T10:48:06.423658Z",
     "shell.execute_reply": "2024-01-05T10:48:06.422749Z",
     "shell.execute_reply.started": "2024-01-05T10:48:06.419886Z"
    }
   },
   "outputs": [],
   "source": [
    "# images_without_index = []\n",
    "# for i in array_insta_images:\n",
    "#     images_without_index.append(i[0])"
   ]
  },
  {
   "cell_type": "code",
   "execution_count": 81,
   "metadata": {
    "execution": {
     "iopub.execute_input": "2024-01-04T10:30:56.246616Z",
     "iopub.status.busy": "2024-01-04T10:30:56.246328Z",
     "iopub.status.idle": "2024-01-04T10:30:56.255497Z",
     "shell.execute_reply": "2024-01-04T10:30:56.254741Z",
     "shell.execute_reply.started": "2024-01-04T10:30:56.246592Z"
    }
   },
   "outputs": [],
   "source": [
    "# len(images_without_index)"
   ]
  },
  {
   "cell_type": "code",
   "execution_count": 148,
   "metadata": {
    "execution": {
     "iopub.execute_input": "2024-01-05T10:48:16.119403Z",
     "iopub.status.busy": "2024-01-05T10:48:16.118384Z",
     "iopub.status.idle": "2024-01-05T10:48:16.126538Z",
     "shell.execute_reply": "2024-01-05T10:48:16.124889Z",
     "shell.execute_reply.started": "2024-01-05T10:48:16.119348Z"
    }
   },
   "outputs": [
    {
     "data": {
      "text/plain": [
       "array([[ 0.28398631],\n",
       "       [ 0.19974448],\n",
       "       [ 0.65434659],\n",
       "       ...,\n",
       "       [-1.77229136],\n",
       "       [-1.06663779],\n",
       "       [-0.87917258]])"
      ]
     },
     "execution_count": 148,
     "metadata": {},
     "output_type": "execute_result"
    }
   ],
   "source": [
    "score_trnf"
   ]
  },
  {
   "cell_type": "code",
   "execution_count": 149,
   "metadata": {
    "execution": {
     "iopub.execute_input": "2024-01-05T10:48:16.941716Z",
     "iopub.status.busy": "2024-01-05T10:48:16.941287Z",
     "iopub.status.idle": "2024-01-05T10:48:16.948219Z",
     "shell.execute_reply": "2024-01-05T10:48:16.947090Z",
     "shell.execute_reply.started": "2024-01-05T10:48:16.941681Z"
    }
   },
   "outputs": [
    {
     "data": {
      "text/plain": [
       "dtype('float64')"
      ]
     },
     "execution_count": 149,
     "metadata": {},
     "output_type": "execute_result"
    }
   ],
   "source": [
    "score_trnf.dtype"
   ]
  },
  {
   "cell_type": "code",
   "execution_count": 150,
   "metadata": {
    "execution": {
     "iopub.execute_input": "2024-01-05T10:48:32.121953Z",
     "iopub.status.busy": "2024-01-05T10:48:32.121010Z",
     "iopub.status.idle": "2024-01-05T10:48:32.126023Z",
     "shell.execute_reply": "2024-01-05T10:48:32.125080Z",
     "shell.execute_reply.started": "2024-01-05T10:48:32.121906Z"
    }
   },
   "outputs": [],
   "source": [
    "# score = np.array(score)"
   ]
  },
  {
   "cell_type": "code",
   "execution_count": 151,
   "metadata": {
    "execution": {
     "iopub.execute_input": "2024-01-05T10:48:32.295265Z",
     "iopub.status.busy": "2024-01-05T10:48:32.294975Z",
     "iopub.status.idle": "2024-01-05T10:48:32.299206Z",
     "shell.execute_reply": "2024-01-05T10:48:32.298244Z",
     "shell.execute_reply.started": "2024-01-05T10:48:32.295240Z"
    }
   },
   "outputs": [],
   "source": [
    "# import seaborn as sns\n",
    "# sns.distplot(score_trnf, kde=True)"
   ]
  },
  {
   "cell_type": "code",
   "execution_count": 152,
   "metadata": {
    "execution": {
     "iopub.execute_input": "2024-01-05T10:48:32.438077Z",
     "iopub.status.busy": "2024-01-05T10:48:32.437799Z",
     "iopub.status.idle": "2024-01-05T10:48:32.443816Z",
     "shell.execute_reply": "2024-01-05T10:48:32.442914Z",
     "shell.execute_reply.started": "2024-01-05T10:48:32.438053Z"
    }
   },
   "outputs": [
    {
     "data": {
      "text/plain": [
       "6311"
      ]
     },
     "execution_count": 152,
     "metadata": {},
     "output_type": "execute_result"
    }
   ],
   "source": [
    "#Extract image names and their index positions sep acc to train and test split\n",
    "len(pad_revs)"
   ]
  },
  {
   "cell_type": "code",
   "execution_count": 153,
   "metadata": {
    "execution": {
     "iopub.execute_input": "2024-01-05T10:48:33.886922Z",
     "iopub.status.busy": "2024-01-05T10:48:33.885987Z",
     "iopub.status.idle": "2024-01-05T10:48:33.891145Z",
     "shell.execute_reply": "2024-01-05T10:48:33.890123Z",
     "shell.execute_reply.started": "2024-01-05T10:48:33.886886Z"
    }
   },
   "outputs": [],
   "source": [
    "# y = df['likesCount']"
   ]
  },
  {
   "cell_type": "code",
   "execution_count": 154,
   "metadata": {
    "execution": {
     "iopub.execute_input": "2024-01-05T10:48:34.091657Z",
     "iopub.status.busy": "2024-01-05T10:48:34.091095Z",
     "iopub.status.idle": "2024-01-05T10:48:34.095554Z",
     "shell.execute_reply": "2024-01-05T10:48:34.094552Z",
     "shell.execute_reply.started": "2024-01-05T10:48:34.091630Z"
    }
   },
   "outputs": [],
   "source": [
    "# from sklearn.model_selection import train_test_split"
   ]
  },
  {
   "cell_type": "code",
   "execution_count": 155,
   "metadata": {
    "execution": {
     "iopub.execute_input": "2024-01-05T10:48:34.262434Z",
     "iopub.status.busy": "2024-01-05T10:48:34.262114Z",
     "iopub.status.idle": "2024-01-05T10:48:34.266432Z",
     "shell.execute_reply": "2024-01-05T10:48:34.265419Z",
     "shell.execute_reply.started": "2024-01-05T10:48:34.262405Z"
    }
   },
   "outputs": [],
   "source": [
    "# X_train, y_train, X_test, y_test = train_test_split(pad_revs, y, test_size=0.2, random_state=0)"
   ]
  },
  {
   "cell_type": "code",
   "execution_count": 156,
   "metadata": {
    "execution": {
     "iopub.execute_input": "2024-01-05T10:48:34.437026Z",
     "iopub.status.busy": "2024-01-05T10:48:34.436750Z",
     "iopub.status.idle": "2024-01-05T10:48:34.441160Z",
     "shell.execute_reply": "2024-01-05T10:48:34.440251Z",
     "shell.execute_reply.started": "2024-01-05T10:48:34.437002Z"
    }
   },
   "outputs": [],
   "source": [
    "# resnet_input = Input(shape=(224,224,3))\n",
    "# lstm_input = Input(shape=(maxlen,))\n",
    "# # shoes_input = Input(shape=(128,128,3), name='shoes_input')\n",
    "\n",
    "# # Connect the existing models to the new Input layers\n",
    "# # outwear_layer = model_outwear(outwear_input)\n",
    "# # pants_layer = model_pants(pants_input)\n",
    "# # shoes_layer = model_shoes(shoes_input)\n",
    "# resnet_layer = model_resnet(resnet_input)\n",
    "# lstm_layer = model_lstm(lstm_input)"
   ]
  },
  {
   "cell_type": "code",
   "execution_count": 157,
   "metadata": {
    "execution": {
     "iopub.execute_input": "2024-01-05T10:48:35.171618Z",
     "iopub.status.busy": "2024-01-05T10:48:35.171221Z",
     "iopub.status.idle": "2024-01-05T10:48:35.175889Z",
     "shell.execute_reply": "2024-01-05T10:48:35.174895Z",
     "shell.execute_reply.started": "2024-01-05T10:48:35.171584Z"
    }
   },
   "outputs": [],
   "source": [
    "# type(score)"
   ]
  },
  {
   "cell_type": "code",
   "execution_count": 158,
   "metadata": {
    "execution": {
     "iopub.execute_input": "2024-01-05T10:48:35.336855Z",
     "iopub.status.busy": "2024-01-05T10:48:35.336244Z",
     "iopub.status.idle": "2024-01-05T10:48:35.340710Z",
     "shell.execute_reply": "2024-01-05T10:48:35.339690Z",
     "shell.execute_reply.started": "2024-01-05T10:48:35.336824Z"
    }
   },
   "outputs": [],
   "source": [
    "# score = np.array(score)"
   ]
  },
  {
   "cell_type": "code",
   "execution_count": 159,
   "metadata": {
    "execution": {
     "iopub.execute_input": "2024-01-05T10:48:35.521755Z",
     "iopub.status.busy": "2024-01-05T10:48:35.521481Z",
     "iopub.status.idle": "2024-01-05T10:48:35.526691Z",
     "shell.execute_reply": "2024-01-05T10:48:35.525274Z",
     "shell.execute_reply.started": "2024-01-05T10:48:35.521731Z"
    }
   },
   "outputs": [],
   "source": [
    "# score = score.astype('int32')"
   ]
  },
  {
   "cell_type": "code",
   "execution_count": 172,
   "metadata": {
    "execution": {
     "iopub.execute_input": "2024-01-05T11:12:15.514306Z",
     "iopub.status.busy": "2024-01-05T11:12:15.513470Z",
     "iopub.status.idle": "2024-01-05T11:12:15.520763Z",
     "shell.execute_reply": "2024-01-05T11:12:15.519665Z",
     "shell.execute_reply.started": "2024-01-05T11:12:15.514271Z"
    }
   },
   "outputs": [
    {
     "data": {
      "text/plain": [
       "dtype('float64')"
      ]
     },
     "execution_count": 172,
     "metadata": {},
     "output_type": "execute_result"
    }
   ],
   "source": [
    "score.dtype"
   ]
  },
  {
   "cell_type": "code",
   "execution_count": 161,
   "metadata": {
    "execution": {
     "iopub.execute_input": "2024-01-05T10:48:35.882704Z",
     "iopub.status.busy": "2024-01-05T10:48:35.882024Z",
     "iopub.status.idle": "2024-01-05T10:48:35.886384Z",
     "shell.execute_reply": "2024-01-05T10:48:35.885485Z",
     "shell.execute_reply.started": "2024-01-05T10:48:35.882673Z"
    }
   },
   "outputs": [],
   "source": [
    "# score\n"
   ]
  },
  {
   "cell_type": "code",
   "execution_count": 162,
   "metadata": {
    "execution": {
     "iopub.execute_input": "2024-01-05T10:48:37.097567Z",
     "iopub.status.busy": "2024-01-05T10:48:37.097201Z",
     "iopub.status.idle": "2024-01-05T10:48:37.107601Z",
     "shell.execute_reply": "2024-01-05T10:48:37.106809Z",
     "shell.execute_reply.started": "2024-01-05T10:48:37.097536Z"
    }
   },
   "outputs": [],
   "source": [
    "combinedInput = concatenate([model_vgg.output, model_lstm.output])"
   ]
  },
  {
   "cell_type": "code",
   "execution_count": 163,
   "metadata": {
    "execution": {
     "iopub.execute_input": "2024-01-05T10:48:37.278778Z",
     "iopub.status.busy": "2024-01-05T10:48:37.278232Z",
     "iopub.status.idle": "2024-01-05T10:48:37.336877Z",
     "shell.execute_reply": "2024-01-05T10:48:37.336080Z",
     "shell.execute_reply.started": "2024-01-05T10:48:37.278748Z"
    }
   },
   "outputs": [],
   "source": [
    "x = Flatten()(combinedInput)\n",
    "x = Dense(1024, activation='relu')(x)\n",
    "# x = BatchNormalization()(x)\n",
    "# x = Dropout(0.2)(x)\n",
    "x = Dense(512, activation='relu')(x)\n",
    "# x = BatchNormalization()(x)\n",
    "# x = Dropout(0.2)(x)\n",
    "x = Dense(256, activation='relu')(x)\n",
    "x = Dense(1, activation='linear')(x)"
   ]
  },
  {
   "cell_type": "code",
   "execution_count": 164,
   "metadata": {
    "execution": {
     "iopub.execute_input": "2024-01-05T10:48:38.279857Z",
     "iopub.status.busy": "2024-01-05T10:48:38.278970Z",
     "iopub.status.idle": "2024-01-05T10:48:38.284931Z",
     "shell.execute_reply": "2024-01-05T10:48:38.283896Z",
     "shell.execute_reply.started": "2024-01-05T10:48:38.279822Z"
    }
   },
   "outputs": [],
   "source": [
    "from tensorflow.keras.callbacks import EarlyStopping"
   ]
  },
  {
   "cell_type": "code",
   "execution_count": 165,
   "metadata": {
    "execution": {
     "iopub.execute_input": "2024-01-05T10:48:38.484675Z",
     "iopub.status.busy": "2024-01-05T10:48:38.484351Z",
     "iopub.status.idle": "2024-01-05T10:48:38.494187Z",
     "shell.execute_reply": "2024-01-05T10:48:38.493396Z",
     "shell.execute_reply.started": "2024-01-05T10:48:38.484649Z"
    }
   },
   "outputs": [],
   "source": [
    "model = Model(inputs=[model_vgg.input, model_lstm.input], outputs=x)"
   ]
  },
  {
   "cell_type": "code",
   "execution_count": 166,
   "metadata": {
    "execution": {
     "iopub.execute_input": "2024-01-05T10:48:38.660452Z",
     "iopub.status.busy": "2024-01-05T10:48:38.659812Z",
     "iopub.status.idle": "2024-01-05T10:48:38.684217Z",
     "shell.execute_reply": "2024-01-05T10:48:38.683503Z",
     "shell.execute_reply.started": "2024-01-05T10:48:38.660423Z"
    }
   },
   "outputs": [],
   "source": [
    "model.compile(loss='mean_absolute_error', optimizer='adam', metrics=[keras.metrics.MeanSquaredError()])"
   ]
  },
  {
   "cell_type": "code",
   "execution_count": 167,
   "metadata": {
    "execution": {
     "iopub.execute_input": "2024-01-05T10:48:39.332214Z",
     "iopub.status.busy": "2024-01-05T10:48:39.331428Z",
     "iopub.status.idle": "2024-01-05T10:48:39.336886Z",
     "shell.execute_reply": "2024-01-05T10:48:39.335825Z",
     "shell.execute_reply.started": "2024-01-05T10:48:39.332179Z"
    }
   },
   "outputs": [],
   "source": [
    "callback = EarlyStopping(\n",
    "    monitor=\"val_loss\",\n",
    "    min_delta=0.0001,\n",
    "    patience=5,\n",
    "    verbose=1,\n",
    "    mode=\"auto\",\n",
    "    baseline=None,\n",
    "    restore_best_weights=False\n",
    ")"
   ]
  },
  {
   "cell_type": "code",
   "execution_count": 168,
   "metadata": {
    "execution": {
     "iopub.execute_input": "2024-01-05T10:48:39.921058Z",
     "iopub.status.busy": "2024-01-05T10:48:39.920674Z",
     "iopub.status.idle": "2024-01-05T10:48:39.964642Z",
     "shell.execute_reply": "2024-01-05T10:48:39.963711Z",
     "shell.execute_reply.started": "2024-01-05T10:48:39.921025Z"
    }
   },
   "outputs": [
    {
     "name": "stdout",
     "output_type": "stream",
     "text": [
      "Model: \"model\"\n",
      "__________________________________________________________________________________________________\n",
      " Layer (type)                Output Shape                 Param #   Connected to                  \n",
      "==================================================================================================\n",
      " embedding_input (InputLaye  [(None, 333)]                0         []                            \n",
      " r)                                                                                               \n",
      "                                                                                                  \n",
      " embedding (Embedding)       (None, 333, 512)             9621504   ['embedding_input[0][0]']     \n",
      "                                                                                                  \n",
      " vgg19_input (InputLayer)    [(None, 224, 224, 3)]        0         []                            \n",
      "                                                                                                  \n",
      " bidirectional (Bidirection  (None, 333, 200)             490400    ['embedding[0][0]']           \n",
      " al)                                                                                              \n",
      "                                                                                                  \n",
      " vgg19 (Functional)          (None, 512)                  2002438   ['vgg19_input[0][0]']         \n",
      "                                                          4                                       \n",
      "                                                                                                  \n",
      " bidirectional_1 (Bidirecti  (None, 200)                  240800    ['bidirectional[0][0]']       \n",
      " onal)                                                                                            \n",
      "                                                                                                  \n",
      " flatten (Flatten)           (None, 512)                  0         ['vgg19[0][0]']               \n",
      "                                                                                                  \n",
      " flatten_1 (Flatten)         (None, 200)                  0         ['bidirectional_1[0][0]']     \n",
      "                                                                                                  \n",
      " concatenate (Concatenate)   (None, 712)                  0         ['flatten[0][0]',             \n",
      "                                                                     'flatten_1[0][0]']           \n",
      "                                                                                                  \n",
      " flatten_2 (Flatten)         (None, 712)                  0         ['concatenate[0][0]']         \n",
      "                                                                                                  \n",
      " dense (Dense)               (None, 1024)                 730112    ['flatten_2[0][0]']           \n",
      "                                                                                                  \n",
      " dense_1 (Dense)             (None, 512)                  524800    ['dense[0][0]']               \n",
      "                                                                                                  \n",
      " dense_2 (Dense)             (None, 256)                  131328    ['dense_1[0][0]']             \n",
      "                                                                                                  \n",
      " dense_3 (Dense)             (None, 1)                    257       ['dense_2[0][0]']             \n",
      "                                                                                                  \n",
      "==================================================================================================\n",
      "Total params: 31763585 (121.17 MB)\n",
      "Trainable params: 11739201 (44.78 MB)\n",
      "Non-trainable params: 20024384 (76.39 MB)\n",
      "__________________________________________________________________________________________________\n"
     ]
    }
   ],
   "source": [
    "model.summary()"
   ]
  },
  {
   "cell_type": "code",
   "execution_count": 169,
   "metadata": {
    "execution": {
     "iopub.execute_input": "2024-01-05T10:48:43.007614Z",
     "iopub.status.busy": "2024-01-05T10:48:43.006955Z",
     "iopub.status.idle": "2024-01-05T10:48:43.011999Z",
     "shell.execute_reply": "2024-01-05T10:48:43.010885Z",
     "shell.execute_reply.started": "2024-01-05T10:48:43.007575Z"
    }
   },
   "outputs": [],
   "source": [
    "# array_insta_images = np.array(array_insta_images)\n",
    "# array_insta_images[0][0]"
   ]
  },
  {
   "cell_type": "code",
   "execution_count": 170,
   "metadata": {
    "execution": {
     "iopub.execute_input": "2024-01-05T10:48:44.162303Z",
     "iopub.status.busy": "2024-01-05T10:48:44.161941Z",
     "iopub.status.idle": "2024-01-05T10:48:44.169680Z",
     "shell.execute_reply": "2024-01-05T10:48:44.168703Z",
     "shell.execute_reply.started": "2024-01-05T10:48:44.162276Z"
    }
   },
   "outputs": [
    {
     "data": {
      "text/plain": [
       "array([[[116, 103,  96],\n",
       "        [116, 103,  96],\n",
       "        [117, 104,  97],\n",
       "        ...,\n",
       "        [  4,   8,  28],\n",
       "        [  4,   8,  22],\n",
       "        [-38, -34, -20]],\n",
       "\n",
       "       [[116, 103,  96],\n",
       "        [116, 103,  96],\n",
       "        [116, 103,  96],\n",
       "        ...,\n",
       "        [ 52,  63,  74],\n",
       "        [ 35,  51,  59],\n",
       "        [ 21,  37,  45]],\n",
       "\n",
       "       [[116, 103,  96],\n",
       "        [116, 103,  96],\n",
       "        [116, 103,  96],\n",
       "        ...,\n",
       "        [-40, -29, -12],\n",
       "        [  6,  19,  28],\n",
       "        [-29, -16,  -7]],\n",
       "\n",
       "       ...,\n",
       "\n",
       "       [[ 56,  44,  51],\n",
       "        [ 91,  82,  86],\n",
       "        [ 91,  84,  84],\n",
       "        ...,\n",
       "        [ 44,  57,  67],\n",
       "        [ 42,  64,  71],\n",
       "        [ 11,  33,  40]],\n",
       "\n",
       "       [[ 62,  59,  70],\n",
       "        [ 86,  80,  90],\n",
       "        [ 65,  57,  65],\n",
       "        ...,\n",
       "        [ 78,  81,  87],\n",
       "        [ 73,  77,  89],\n",
       "        [ 71,  75,  87]],\n",
       "\n",
       "       [[ 50,  53,  58],\n",
       "        [ 54,  56,  58],\n",
       "        [ 61,  57,  59],\n",
       "        ...,\n",
       "        [ 58,  74,  76],\n",
       "        [ 46,  57,  70],\n",
       "        [ 54,  64,  79]]], dtype=int32)"
      ]
     },
     "execution_count": 170,
     "metadata": {},
     "output_type": "execute_result"
    }
   ],
   "source": [
    "# images_without_index[0][0][0]\n",
    "array_insta_images[0]"
   ]
  },
  {
   "cell_type": "code",
   "execution_count": 171,
   "metadata": {
    "execution": {
     "iopub.execute_input": "2024-01-05T10:48:46.156908Z",
     "iopub.status.busy": "2024-01-05T10:48:46.156529Z",
     "iopub.status.idle": "2024-01-05T10:48:46.162984Z",
     "shell.execute_reply": "2024-01-05T10:48:46.162091Z",
     "shell.execute_reply.started": "2024-01-05T10:48:46.156879Z"
    }
   },
   "outputs": [
    {
     "data": {
      "text/plain": [
       "6310"
      ]
     },
     "execution_count": 171,
     "metadata": {},
     "output_type": "execute_result"
    }
   ],
   "source": [
    "len(array_insta_images)"
   ]
  },
  {
   "cell_type": "code",
   "execution_count": 106,
   "metadata": {
    "execution": {
     "iopub.execute_input": "2024-01-04T10:30:56.617787Z",
     "iopub.status.busy": "2024-01-04T10:30:56.617450Z",
     "iopub.status.idle": "2024-01-04T10:30:56.628199Z",
     "shell.execute_reply": "2024-01-04T10:30:56.627396Z",
     "shell.execute_reply.started": "2024-01-04T10:30:56.617739Z"
    }
   },
   "outputs": [
    {
     "data": {
      "text/plain": [
       "array([  491, 11068,   276,   593,   779,     9,   363,     6,  2054,\n",
       "         359,  2054,   321,  3909,  1885,   311,    34,   359,   586,\n",
       "         163,  2472,   209,  1009,   769,  4190, 11069,  7877,   569,\n",
       "        5312,     0,     0,     0,     0,     0,     0,     0,     0,\n",
       "           0,     0,     0,     0,     0,     0,     0,     0,     0,\n",
       "           0,     0,     0,     0,     0,     0,     0,     0,     0,\n",
       "           0,     0,     0,     0,     0,     0,     0,     0,     0,\n",
       "           0,     0,     0,     0,     0,     0,     0,     0,     0,\n",
       "           0,     0,     0,     0,     0,     0,     0,     0,     0,\n",
       "           0,     0,     0,     0,     0,     0,     0,     0,     0,\n",
       "           0,     0,     0,     0,     0,     0,     0,     0,     0,\n",
       "           0,     0,     0,     0,     0,     0,     0,     0,     0,\n",
       "           0,     0,     0,     0,     0,     0,     0,     0,     0,\n",
       "           0,     0,     0,     0,     0,     0,     0,     0,     0,\n",
       "           0,     0,     0,     0,     0,     0,     0,     0,     0,\n",
       "           0,     0,     0,     0,     0,     0,     0,     0,     0,\n",
       "           0,     0,     0,     0,     0,     0,     0,     0,     0,\n",
       "           0,     0,     0,     0,     0,     0,     0,     0,     0,\n",
       "           0,     0,     0,     0,     0,     0,     0,     0,     0,\n",
       "           0,     0,     0,     0,     0,     0,     0,     0,     0,\n",
       "           0,     0,     0,     0,     0,     0,     0,     0,     0,\n",
       "           0,     0,     0,     0,     0,     0,     0,     0,     0,\n",
       "           0,     0,     0,     0,     0,     0,     0,     0,     0,\n",
       "           0,     0,     0,     0,     0,     0,     0,     0,     0,\n",
       "           0,     0,     0,     0,     0,     0,     0,     0,     0,\n",
       "           0,     0,     0,     0,     0,     0,     0,     0,     0,\n",
       "           0,     0,     0,     0,     0,     0,     0,     0,     0,\n",
       "           0], dtype=int32)"
      ]
     },
     "execution_count": 106,
     "metadata": {},
     "output_type": "execute_result"
    }
   ],
   "source": [
    "pad_revs[0]"
   ]
  },
  {
   "cell_type": "code",
   "execution_count": 107,
   "metadata": {
    "execution": {
     "iopub.execute_input": "2024-01-04T10:30:56.629735Z",
     "iopub.status.busy": "2024-01-04T10:30:56.629403Z",
     "iopub.status.idle": "2024-01-04T10:30:56.641500Z",
     "shell.execute_reply": "2024-01-04T10:30:56.640495Z",
     "shell.execute_reply.started": "2024-01-04T10:30:56.629703Z"
    }
   },
   "outputs": [
    {
     "data": {
      "text/plain": [
       "dtype('int32')"
      ]
     },
     "execution_count": 107,
     "metadata": {},
     "output_type": "execute_result"
    }
   ],
   "source": [
    "pad_revs.dtype"
   ]
  },
  {
   "cell_type": "code",
   "execution_count": 173,
   "metadata": {
    "execution": {
     "iopub.execute_input": "2024-01-05T11:14:05.286669Z",
     "iopub.status.busy": "2024-01-05T11:14:05.286244Z",
     "iopub.status.idle": "2024-01-05T11:14:05.292801Z",
     "shell.execute_reply": "2024-01-05T11:14:05.291832Z",
     "shell.execute_reply.started": "2024-01-05T11:14:05.286637Z"
    }
   },
   "outputs": [
    {
     "data": {
      "text/plain": [
       "6311"
      ]
     },
     "execution_count": 173,
     "metadata": {},
     "output_type": "execute_result"
    }
   ],
   "source": [
    "len(pad_revs)"
   ]
  },
  {
   "cell_type": "code",
   "execution_count": 176,
   "metadata": {
    "execution": {
     "iopub.execute_input": "2024-01-05T11:16:20.642117Z",
     "iopub.status.busy": "2024-01-05T11:16:20.641219Z",
     "iopub.status.idle": "2024-01-05T11:16:20.686331Z",
     "shell.execute_reply": "2024-01-05T11:16:20.685102Z",
     "shell.execute_reply.started": "2024-01-05T11:16:20.642080Z"
    }
   },
   "outputs": [
    {
     "ename": "AttributeError",
     "evalue": "'numpy.ndarray' object has no attribute 'delete'",
     "output_type": "error",
     "traceback": [
      "\u001b[0;31m---------------------------------------------------------------------------\u001b[0m",
      "\u001b[0;31mAttributeError\u001b[0m                            Traceback (most recent call last)",
      "Cell \u001b[0;32mIn[176], line 1\u001b[0m\n\u001b[0;32m----> 1\u001b[0m \u001b[43mpad_revs\u001b[49m\u001b[38;5;241;43m.\u001b[39;49m\u001b[43mdelete\u001b[49m()\n",
      "\u001b[0;31mAttributeError\u001b[0m: 'numpy.ndarray' object has no attribute 'delete'"
     ]
    }
   ],
   "source": [
    "pad_revs.delete"
   ]
  },
  {
   "cell_type": "code",
   "execution_count": 109,
   "metadata": {
    "execution": {
     "iopub.execute_input": "2024-01-04T10:30:56.653669Z",
     "iopub.status.busy": "2024-01-04T10:30:56.653392Z",
     "iopub.status.idle": "2024-01-04T10:30:56.661046Z",
     "shell.execute_reply": "2024-01-04T10:30:56.660101Z",
     "shell.execute_reply.started": "2024-01-04T10:30:56.653646Z"
    }
   },
   "outputs": [
    {
     "data": {
      "text/plain": [
       "4611"
      ]
     },
     "execution_count": 109,
     "metadata": {},
     "output_type": "execute_result"
    }
   ],
   "source": [
    "len(score)"
   ]
  },
  {
   "cell_type": "code",
   "execution_count": 110,
   "metadata": {
    "execution": {
     "iopub.execute_input": "2024-01-04T10:30:56.662487Z",
     "iopub.status.busy": "2024-01-04T10:30:56.662147Z",
     "iopub.status.idle": "2024-01-04T10:30:56.671638Z",
     "shell.execute_reply": "2024-01-04T10:30:56.670804Z",
     "shell.execute_reply.started": "2024-01-04T10:30:56.662455Z"
    }
   },
   "outputs": [],
   "source": [
    "pad_revs = pad_revs.astype('float32')"
   ]
  },
  {
   "cell_type": "code",
   "execution_count": 111,
   "metadata": {
    "execution": {
     "iopub.execute_input": "2024-01-04T10:30:56.673260Z",
     "iopub.status.busy": "2024-01-04T10:30:56.672900Z",
     "iopub.status.idle": "2024-01-04T10:30:56.681489Z",
     "shell.execute_reply": "2024-01-04T10:30:56.680453Z",
     "shell.execute_reply.started": "2024-01-04T10:30:56.673222Z"
    }
   },
   "outputs": [
    {
     "data": {
      "text/plain": [
       "array([[4.9100e+02, 1.1068e+04, 2.7600e+02, ..., 0.0000e+00, 0.0000e+00,\n",
       "        0.0000e+00],\n",
       "       [4.1000e+01, 2.5000e+01, 1.5500e+02, ..., 0.0000e+00, 0.0000e+00,\n",
       "        0.0000e+00],\n",
       "       [9.9500e+02, 9.3500e+02, 1.0600e+02, ..., 0.0000e+00, 0.0000e+00,\n",
       "        0.0000e+00],\n",
       "       ...,\n",
       "       [1.1280e+03, 1.0460e+03, 1.8400e+02, ..., 0.0000e+00, 0.0000e+00,\n",
       "        0.0000e+00],\n",
       "       [7.2000e+01, 1.4110e+03, 0.0000e+00, ..., 0.0000e+00, 0.0000e+00,\n",
       "        0.0000e+00],\n",
       "       [9.5000e+01, 7.0400e+02, 9.0000e+00, ..., 0.0000e+00, 0.0000e+00,\n",
       "        0.0000e+00]], dtype=float32)"
      ]
     },
     "execution_count": 111,
     "metadata": {},
     "output_type": "execute_result"
    }
   ],
   "source": [
    "pad_revs"
   ]
  },
  {
   "cell_type": "code",
   "execution_count": 112,
   "metadata": {
    "execution": {
     "iopub.execute_input": "2024-01-04T10:30:56.682938Z",
     "iopub.status.busy": "2024-01-04T10:30:56.682581Z",
     "iopub.status.idle": "2024-01-04T11:03:06.423021Z",
     "shell.execute_reply": "2024-01-04T11:03:06.422089Z",
     "shell.execute_reply.started": "2024-01-04T10:30:56.682913Z"
    }
   },
   "outputs": [
    {
     "name": "stdout",
     "output_type": "stream",
     "text": [
      "Epoch 1/60\n",
      "116/116 [==============================] - 78s 492ms/step - loss: 0.8488 - mean_squared_error: 1.6722 - val_loss: 0.8700 - val_mean_squared_error: 1.3084\n",
      "Epoch 2/60\n",
      "116/116 [==============================] - 47s 401ms/step - loss: 0.7117 - mean_squared_error: 0.9150 - val_loss: 0.8156 - val_mean_squared_error: 1.1886\n",
      "Epoch 3/60\n",
      "116/116 [==============================] - 41s 350ms/step - loss: 0.6638 - mean_squared_error: 0.8011 - val_loss: 0.8843 - val_mean_squared_error: 1.4604\n",
      "Epoch 4/60\n",
      "116/116 [==============================] - 39s 339ms/step - loss: 0.6052 - mean_squared_error: 0.7578 - val_loss: 0.7966 - val_mean_squared_error: 1.1062\n",
      "Epoch 5/60\n",
      "116/116 [==============================] - 37s 319ms/step - loss: 0.5095 - mean_squared_error: 0.5568 - val_loss: 0.7945 - val_mean_squared_error: 1.1110\n",
      "Epoch 6/60\n",
      "116/116 [==============================] - 36s 311ms/step - loss: 0.4579 - mean_squared_error: 0.4559 - val_loss: 0.8620 - val_mean_squared_error: 1.2588\n",
      "Epoch 7/60\n",
      "116/116 [==============================] - 35s 303ms/step - loss: 0.4075 - mean_squared_error: 0.3839 - val_loss: 0.8196 - val_mean_squared_error: 1.1704\n",
      "Epoch 8/60\n",
      "116/116 [==============================] - 36s 312ms/step - loss: 0.3580 - mean_squared_error: 0.3193 - val_loss: 0.7968 - val_mean_squared_error: 1.1020\n",
      "Epoch 9/60\n",
      "116/116 [==============================] - 33s 282ms/step - loss: 0.3240 - mean_squared_error: 0.2775 - val_loss: 0.7958 - val_mean_squared_error: 1.1319\n",
      "Epoch 10/60\n",
      "116/116 [==============================] - 32s 280ms/step - loss: 0.2953 - mean_squared_error: 0.2362 - val_loss: 0.7905 - val_mean_squared_error: 1.1127\n",
      "Epoch 11/60\n",
      "116/116 [==============================] - 33s 283ms/step - loss: 0.2709 - mean_squared_error: 0.2120 - val_loss: 0.7869 - val_mean_squared_error: 1.0934\n",
      "Epoch 12/60\n",
      "116/116 [==============================] - 31s 268ms/step - loss: 0.2426 - mean_squared_error: 0.1714 - val_loss: 0.7926 - val_mean_squared_error: 1.1136\n",
      "Epoch 13/60\n",
      "116/116 [==============================] - 32s 273ms/step - loss: 0.2386 - mean_squared_error: 0.1654 - val_loss: 0.7918 - val_mean_squared_error: 1.0738\n",
      "Epoch 14/60\n",
      "116/116 [==============================] - 30s 260ms/step - loss: 0.2167 - mean_squared_error: 0.1450 - val_loss: 0.7568 - val_mean_squared_error: 1.0264\n",
      "Epoch 15/60\n",
      "116/116 [==============================] - 32s 274ms/step - loss: 0.2047 - mean_squared_error: 0.1336 - val_loss: 0.7661 - val_mean_squared_error: 1.0606\n",
      "Epoch 16/60\n",
      "116/116 [==============================] - 32s 270ms/step - loss: 0.1950 - mean_squared_error: 0.1232 - val_loss: 0.7656 - val_mean_squared_error: 1.0729\n",
      "Epoch 17/60\n",
      "116/116 [==============================] - 31s 271ms/step - loss: 0.1807 - mean_squared_error: 0.1009 - val_loss: 0.7844 - val_mean_squared_error: 1.1061\n",
      "Epoch 18/60\n",
      "116/116 [==============================] - 31s 267ms/step - loss: 0.1770 - mean_squared_error: 0.0946 - val_loss: 0.7991 - val_mean_squared_error: 1.1406\n",
      "Epoch 19/60\n",
      "116/116 [==============================] - 31s 267ms/step - loss: 0.1683 - mean_squared_error: 0.0909 - val_loss: 0.7984 - val_mean_squared_error: 1.1704\n",
      "Epoch 20/60\n",
      "116/116 [==============================] - 31s 267ms/step - loss: 0.1572 - mean_squared_error: 0.0782 - val_loss: 0.7938 - val_mean_squared_error: 1.1505\n",
      "Epoch 21/60\n",
      "116/116 [==============================] - 31s 263ms/step - loss: 0.1551 - mean_squared_error: 0.0703 - val_loss: 0.7675 - val_mean_squared_error: 1.0749\n",
      "Epoch 22/60\n",
      "116/116 [==============================] - 30s 262ms/step - loss: 0.1484 - mean_squared_error: 0.0616 - val_loss: 0.7744 - val_mean_squared_error: 1.0968\n",
      "Epoch 23/60\n",
      "116/116 [==============================] - 31s 265ms/step - loss: 0.1407 - mean_squared_error: 0.0578 - val_loss: 0.7983 - val_mean_squared_error: 1.1918\n",
      "Epoch 24/60\n",
      "116/116 [==============================] - 30s 260ms/step - loss: 0.1385 - mean_squared_error: 0.0546 - val_loss: 0.7856 - val_mean_squared_error: 1.1788\n",
      "Epoch 25/60\n",
      "116/116 [==============================] - 30s 258ms/step - loss: 0.1303 - mean_squared_error: 0.0435 - val_loss: 0.7877 - val_mean_squared_error: 1.2544\n",
      "Epoch 26/60\n",
      "116/116 [==============================] - 30s 263ms/step - loss: 0.1329 - mean_squared_error: 0.0478 - val_loss: 0.7894 - val_mean_squared_error: 1.2518\n",
      "Epoch 27/60\n",
      "116/116 [==============================] - 30s 260ms/step - loss: 0.1294 - mean_squared_error: 0.0540 - val_loss: 0.7631 - val_mean_squared_error: 1.1177\n",
      "Epoch 28/60\n",
      "116/116 [==============================] - 30s 260ms/step - loss: 0.1198 - mean_squared_error: 0.0398 - val_loss: 0.7770 - val_mean_squared_error: 1.1461\n",
      "Epoch 29/60\n",
      "116/116 [==============================] - 30s 259ms/step - loss: 0.1213 - mean_squared_error: 0.0363 - val_loss: 0.7939 - val_mean_squared_error: 1.2617\n",
      "Epoch 30/60\n",
      "116/116 [==============================] - 30s 262ms/step - loss: 0.1113 - mean_squared_error: 0.0322 - val_loss: 0.7901 - val_mean_squared_error: 1.2206\n",
      "Epoch 31/60\n",
      "116/116 [==============================] - 30s 260ms/step - loss: 0.1091 - mean_squared_error: 0.0319 - val_loss: 0.7974 - val_mean_squared_error: 1.2150\n",
      "Epoch 32/60\n",
      "116/116 [==============================] - 31s 267ms/step - loss: 0.1067 - mean_squared_error: 0.0338 - val_loss: 0.7777 - val_mean_squared_error: 1.1573\n",
      "Epoch 33/60\n",
      "116/116 [==============================] - 30s 258ms/step - loss: 0.1057 - mean_squared_error: 0.0295 - val_loss: 0.7999 - val_mean_squared_error: 1.2661\n",
      "Epoch 34/60\n",
      "116/116 [==============================] - 30s 260ms/step - loss: 0.1022 - mean_squared_error: 0.0263 - val_loss: 0.7738 - val_mean_squared_error: 1.1359\n",
      "Epoch 35/60\n",
      "116/116 [==============================] - 30s 261ms/step - loss: 0.1011 - mean_squared_error: 0.0291 - val_loss: 0.7631 - val_mean_squared_error: 1.0904\n",
      "Epoch 36/60\n",
      "116/116 [==============================] - 30s 258ms/step - loss: 0.0981 - mean_squared_error: 0.0243 - val_loss: 0.8006 - val_mean_squared_error: 1.2514\n",
      "Epoch 37/60\n",
      "116/116 [==============================] - 30s 260ms/step - loss: 0.0964 - mean_squared_error: 0.0242 - val_loss: 0.7821 - val_mean_squared_error: 1.1608\n",
      "Epoch 38/60\n",
      "116/116 [==============================] - 30s 258ms/step - loss: 0.0974 - mean_squared_error: 0.0246 - val_loss: 0.7947 - val_mean_squared_error: 1.1934\n",
      "Epoch 39/60\n",
      "116/116 [==============================] - 30s 260ms/step - loss: 0.0895 - mean_squared_error: 0.0198 - val_loss: 0.7628 - val_mean_squared_error: 1.1569\n",
      "Epoch 40/60\n",
      "116/116 [==============================] - 30s 257ms/step - loss: 0.0889 - mean_squared_error: 0.0204 - val_loss: 0.7763 - val_mean_squared_error: 1.1487\n",
      "Epoch 41/60\n",
      "116/116 [==============================] - 30s 258ms/step - loss: 0.0870 - mean_squared_error: 0.0191 - val_loss: 0.7821 - val_mean_squared_error: 1.1545\n",
      "Epoch 42/60\n",
      "116/116 [==============================] - 30s 259ms/step - loss: 0.0868 - mean_squared_error: 0.0201 - val_loss: 0.7742 - val_mean_squared_error: 1.1729\n",
      "Epoch 43/60\n",
      "116/116 [==============================] - 30s 256ms/step - loss: 0.0861 - mean_squared_error: 0.0214 - val_loss: 0.7965 - val_mean_squared_error: 1.2037\n",
      "Epoch 44/60\n",
      "116/116 [==============================] - 30s 258ms/step - loss: 0.0871 - mean_squared_error: 0.0189 - val_loss: 0.7761 - val_mean_squared_error: 1.1598\n",
      "Epoch 45/60\n",
      "116/116 [==============================] - 30s 255ms/step - loss: 0.0831 - mean_squared_error: 0.0173 - val_loss: 0.7846 - val_mean_squared_error: 1.1721\n",
      "Epoch 46/60\n",
      "116/116 [==============================] - 30s 257ms/step - loss: 0.0818 - mean_squared_error: 0.0168 - val_loss: 0.7850 - val_mean_squared_error: 1.2093\n",
      "Epoch 47/60\n",
      "116/116 [==============================] - 30s 256ms/step - loss: 0.0758 - mean_squared_error: 0.0166 - val_loss: 0.7976 - val_mean_squared_error: 1.2195\n",
      "Epoch 48/60\n",
      "116/116 [==============================] - 29s 255ms/step - loss: 0.0790 - mean_squared_error: 0.0172 - val_loss: 0.7682 - val_mean_squared_error: 1.1145\n",
      "Epoch 49/60\n",
      "116/116 [==============================] - 30s 257ms/step - loss: 0.0806 - mean_squared_error: 0.0160 - val_loss: 0.7935 - val_mean_squared_error: 1.1971\n",
      "Epoch 50/60\n",
      "116/116 [==============================] - 31s 264ms/step - loss: 0.0779 - mean_squared_error: 0.0163 - val_loss: 0.7832 - val_mean_squared_error: 1.2654\n",
      "Epoch 51/60\n",
      "116/116 [==============================] - 30s 258ms/step - loss: 0.0751 - mean_squared_error: 0.0157 - val_loss: 0.8091 - val_mean_squared_error: 1.2585\n",
      "Epoch 52/60\n",
      "116/116 [==============================] - 30s 259ms/step - loss: 0.0760 - mean_squared_error: 0.0147 - val_loss: 0.7761 - val_mean_squared_error: 1.1390\n",
      "Epoch 53/60\n",
      "116/116 [==============================] - 30s 258ms/step - loss: 0.0725 - mean_squared_error: 0.0145 - val_loss: 0.7950 - val_mean_squared_error: 1.3049\n",
      "Epoch 54/60\n",
      "116/116 [==============================] - 30s 258ms/step - loss: 0.0718 - mean_squared_error: 0.0134 - val_loss: 0.7954 - val_mean_squared_error: 1.1951\n",
      "Epoch 55/60\n",
      "116/116 [==============================] - 30s 262ms/step - loss: 0.0706 - mean_squared_error: 0.0120 - val_loss: 0.7822 - val_mean_squared_error: 1.1544\n",
      "Epoch 56/60\n",
      "116/116 [==============================] - 29s 254ms/step - loss: 0.0733 - mean_squared_error: 0.0143 - val_loss: 0.7850 - val_mean_squared_error: 1.1659\n",
      "Epoch 57/60\n",
      "116/116 [==============================] - 30s 256ms/step - loss: 0.0719 - mean_squared_error: 0.0131 - val_loss: 0.7831 - val_mean_squared_error: 1.1886\n",
      "Epoch 58/60\n",
      "116/116 [==============================] - 29s 254ms/step - loss: 0.0698 - mean_squared_error: 0.0126 - val_loss: 0.7692 - val_mean_squared_error: 1.1535\n",
      "Epoch 59/60\n",
      "116/116 [==============================] - 30s 256ms/step - loss: 0.0664 - mean_squared_error: 0.0126 - val_loss: 0.7799 - val_mean_squared_error: 1.1676\n",
      "Epoch 60/60\n",
      "116/116 [==============================] - 30s 258ms/step - loss: 0.0671 - mean_squared_error: 0.0106 - val_loss: 0.7770 - val_mean_squared_error: 1.2210\n"
     ]
    },
    {
     "data": {
      "text/plain": [
       "<keras.src.callbacks.History at 0x7a64498c3dc0>"
      ]
     },
     "execution_count": 112,
     "metadata": {},
     "output_type": "execute_result"
    }
   ],
   "source": [
    "model.fit(x=[array_insta_images,pad_revs], y=score, shuffle=True, validation_split=0.2, epochs=60)"
   ]
  },
  {
   "cell_type": "code",
   "execution_count": 152,
   "metadata": {
    "execution": {
     "iopub.execute_input": "2024-01-04T00:55:15.564371Z",
     "iopub.status.busy": "2024-01-04T00:55:15.563952Z",
     "iopub.status.idle": "2024-01-04T00:56:29.915461Z",
     "shell.execute_reply": "2024-01-04T00:56:29.914403Z",
     "shell.execute_reply.started": "2024-01-04T00:55:15.564338Z"
    }
   },
   "outputs": [],
   "source": [
    "model.save('post-scorer.keras')"
   ]
  },
  {
   "cell_type": "code",
   "execution_count": null,
   "metadata": {},
   "outputs": [],
   "source": [
    "#Prdictions"
   ]
  }
 ],
 "metadata": {
  "kaggle": {
   "accelerator": "nvidiaTeslaT4",
   "dataSources": [
    {
     "datasetId": 4236504,
     "sourceId": 7302355,
     "sourceType": "datasetVersion"
    },
    {
     "datasetId": 4237607,
     "sourceId": 7303885,
     "sourceType": "datasetVersion"
    },
    {
     "datasetId": 4238685,
     "sourceId": 7305474,
     "sourceType": "datasetVersion"
    },
    {
     "datasetId": 4248163,
     "sourceId": 7320343,
     "sourceType": "datasetVersion"
    },
    {
     "datasetId": 4261810,
     "sourceId": 7340372,
     "sourceType": "datasetVersion"
    },
    {
     "datasetId": 4261886,
     "sourceId": 7340498,
     "sourceType": "datasetVersion"
    },
    {
     "datasetId": 4263179,
     "sourceId": 7342323,
     "sourceType": "datasetVersion"
    }
   ],
   "dockerImageVersionId": 30627,
   "isGpuEnabled": true,
   "isInternetEnabled": true,
   "language": "python",
   "sourceType": "notebook"
  },
  "kernelspec": {
   "display_name": "Python 3 (ipykernel)",
   "language": "python",
   "name": "python3"
  },
  "language_info": {
   "codemirror_mode": {
    "name": "ipython",
    "version": 3
   },
   "file_extension": ".py",
   "mimetype": "text/x-python",
   "name": "python",
   "nbconvert_exporter": "python",
   "pygments_lexer": "ipython3",
   "version": "3.10.13"
  }
 },
 "nbformat": 4,
 "nbformat_minor": 4
}
