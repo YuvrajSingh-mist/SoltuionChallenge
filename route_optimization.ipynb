{
 "cells": [
  {
   "cell_type": "code",
   "execution_count": 1,
   "id": "ac99cb96-62ee-4204-b514-b26df18385e9",
   "metadata": {},
   "outputs": [],
   "source": [
    "import json\n",
    "import googlemaps\n",
    "from datetime import datetime"
   ]
  },
  {
   "cell_type": "code",
   "execution_count": 2,
   "id": "89b0404b-0d5d-4fbb-b1c2-6196ca8665cb",
   "metadata": {},
   "outputs": [],
   "source": [
    "# Zage 3 Restro Cafe\n",
    "# Bowlful Bites\n",
    "# ROTI (Revenue Officers' Training Institute)\n"
   ]
  },
  {
   "cell_type": "code",
   "execution_count": 171,
   "id": "40198672-210b-4b21-8201-f9fe678ef49e",
   "metadata": {},
   "outputs": [],
   "source": [
    "dict_places = {\n",
    "    # 0: (20.294766554410437, 85.74336649575216),\n",
    "    1: (20.289392134840174, 85.74188592015321),\n",
    "    2: (20.28595147758, 85.75135547779522),\n",
    "    3: (20.293225116208706, 85.73277612608766),\n",
    "    # \"PP4\": \"7PVR+GQ3, Gothapatna, Odisha 751003\",\n",
    "    # \"PP5\": \"7PQP+8VR, Nuagan, Odisha 752054\",\n",
    "    # \"PP6\": \"IIIT Campus, near STPI, Gothapatna, Odisha 751003\",\n",
    "    # \"PP7\": \"7PVR+6XM, Bhubaneswar, Gothapatna, Odisha 751003\",\n",
    "    # \"PP8\": \"7PRR+WG5, Gothapatna, Odisha 751003\",\n",
    "    # \"PP9\": \"The SG's Kitchen, near Bandita Imperials, IIIT Square, Gothapatna, Bhubaneswar, Odisha 751003\",\n",
    "    # \"PP10\": \"IDCO Plot No. 2, Institutional Area, Gothapatna, Bhubaneswar, Odisha 751029\",\n",
    "}"
   ]
  },
  {
   "cell_type": "code",
   "execution_count": 58,
   "id": "d125578b-d56d-458b-947e-82216d068f05",
   "metadata": {},
   "outputs": [],
   "source": [
    "now = datetime.now()"
   ]
  },
  {
   "cell_type": "code",
   "execution_count": 59,
   "id": "ef9a8174-1e9d-49c2-8330-495b7bc3d213",
   "metadata": {},
   "outputs": [],
   "source": [
    "source = (20.294766554410437, 85.74336649575216)"
   ]
  },
  {
   "cell_type": "code",
   "execution_count": 60,
   "id": "d9f5f374-a293-4003-ab83-12515f08abdc",
   "metadata": {},
   "outputs": [],
   "source": [
    "dest = dict_places.keys()"
   ]
  },
  {
   "cell_type": "code",
   "execution_count": 61,
   "id": "4828679e-ac7b-41c3-b9fd-fee47e4a45a9",
   "metadata": {},
   "outputs": [
    {
     "name": "stdout",
     "output_type": "stream",
     "text": [
      "1\n",
      "2\n",
      "3\n"
     ]
    }
   ],
   "source": [
    "for i in dest:\n",
    "    print(i)"
   ]
  },
  {
   "cell_type": "code",
   "execution_count": 62,
   "id": "818db86e-ffe3-41c3-a02a-9d3f1c7b8d9e",
   "metadata": {},
   "outputs": [],
   "source": [
    "dest_to_index = {\n",
    "    \n",
    "}"
   ]
  },
  {
   "cell_type": "code",
   "execution_count": 63,
   "id": "7e2c6953-6208-4585-85a4-a18b1e969a83",
   "metadata": {},
   "outputs": [],
   "source": [
    "temp = [1,2,3,4]\n"
   ]
  },
  {
   "cell_type": "code",
   "execution_count": 64,
   "id": "020ba0d7-0708-4368-b633-d93c61fce25b",
   "metadata": {},
   "outputs": [],
   "source": [
    "combinations = []"
   ]
  },
  {
   "cell_type": "code",
   "execution_count": 65,
   "id": "5afa6baf-a815-4bd1-994a-5a2e24794d2f",
   "metadata": {},
   "outputs": [],
   "source": [
    "for i in range(len(dest)):\n",
    "    for j in range(1, len(dest)):\n",
    "        combinations.append((i,j))"
   ]
  },
  {
   "cell_type": "code",
   "execution_count": 66,
   "id": "d8162f32-b65a-4296-b16e-40f8c73f9ddb",
   "metadata": {},
   "outputs": [
    {
     "data": {
      "text/plain": [
       "6"
      ]
     },
     "execution_count": 66,
     "metadata": {},
     "output_type": "execute_result"
    }
   ],
   "source": [
    "len(combinations)"
   ]
  },
  {
   "cell_type": "code",
   "execution_count": 149,
   "id": "8298bb40-f0b6-4aab-ae86-2a4059169a66",
   "metadata": {},
   "outputs": [
    {
     "name": "stdout",
     "output_type": "stream",
     "text": [
      "The distance between Mumbai and Pune is:  120.13816971268406\n"
     ]
    }
   ],
   "source": [
    "from geopy.distance import geodesic as GD\n",
    "from geopy.geocoders import Nominatim\n",
    "geolocator = Nominatim(user_agent=\"Mozilla/5.0 (Windows NT 10.0; Win64; x64) AppleWebKit/537.36 (KHTML, like Gecko) Chrome/120.0.0.0 Safari/537.36\")\n",
    "Mumbai = (19.0760, 72.8777)\n",
    "Pune = (18.5204, 73.8567)\n",
    " \n",
    "print(\"The distance between Mumbai and Pune is: \", GD(Mumbai,Pune).km)"
   ]
  },
  {
   "cell_type": "code",
   "execution_count": 150,
   "id": "a2b1d84a-59de-49c0-9eb6-45d6babb4584",
   "metadata": {},
   "outputs": [],
   "source": [
    "def cal_dist(place1, place2):\n",
    "    return GD(place1,place2).km"
   ]
  },
  {
   "cell_type": "code",
   "execution_count": 151,
   "id": "7b084cc2-f0a8-4dc0-87a2-6971ef8d8e94",
   "metadata": {},
   "outputs": [
    {
     "data": {
      "text/plain": [
       "120.13816971268406"
      ]
     },
     "execution_count": 151,
     "metadata": {},
     "output_type": "execute_result"
    }
   ],
   "source": [
    "cal_dist(Mumbai, Pune)"
   ]
  },
  {
   "cell_type": "code",
   "execution_count": 152,
   "id": "3b5e3b13-7206-457c-8a67-5345039733fa",
   "metadata": {},
   "outputs": [],
   "source": [
    "#now implementng genetic algorithm"
   ]
  },
  {
   "cell_type": "code",
   "execution_count": 153,
   "id": "b888497b-6688-4b74-943c-7efeb3028ab2",
   "metadata": {},
   "outputs": [],
   "source": [
    "source = (20.294750510722377, 85.74338433480382)\n",
    "\n"
   ]
  },
  {
   "cell_type": "code",
   "execution_count": 177,
   "id": "fdd0ecc6-0548-4ad5-899f-befc1c190be2",
   "metadata": {},
   "outputs": [
    {
     "name": "stdin",
     "output_type": "stream",
     "text": [
      "Enter your current location :  International Institute of Information Technology Bhubaneswar\n"
     ]
    }
   ],
   "source": [
    "while(True):\n",
    "    location_name = input(\"Enter your current location : \")\n",
    "    break"
   ]
  },
  {
   "cell_type": "code",
   "execution_count": 175,
   "id": "162f9e39-419f-4c39-aaa5-5c9d17730c14",
   "metadata": {},
   "outputs": [],
   "source": [
    "city_names = [1, 2, 3]\n",
    "start = 0"
   ]
  },
  {
   "cell_type": "code",
   "execution_count": 178,
   "id": "82e83c66-f8e1-4df7-9acb-7df635059f4c",
   "metadata": {},
   "outputs": [],
   "source": [
    "location = geolocator.geocode(location_name)"
   ]
  },
  {
   "cell_type": "code",
   "execution_count": 179,
   "id": "2b1da874-21ea-4ca0-b8b6-2b1deb847d48",
   "metadata": {},
   "outputs": [
    {
     "data": {
      "text/plain": [
       "85.74402934096034"
      ]
     },
     "execution_count": 179,
     "metadata": {},
     "output_type": "execute_result"
    }
   ],
   "source": [
    "location.longitude"
   ]
  },
  {
   "cell_type": "code",
   "execution_count": 180,
   "id": "48aa968f-7c7d-48fa-825d-4f8678f3cced",
   "metadata": {},
   "outputs": [],
   "source": [
    "dict_places[0] = (location.latitude, location.longitude)"
   ]
  },
  {
   "cell_type": "code",
   "execution_count": 181,
   "id": "9b5b7cee-40fd-45a0-b403-92b7412233f3",
   "metadata": {},
   "outputs": [
    {
     "data": {
      "text/plain": [
       "{1: (20.289392134840174, 85.74188592015321),\n",
       " 2: (20.28595147758, 85.75135547779522),\n",
       " 3: (20.293225116208706, 85.73277612608766),\n",
       " 0: (20.295150800000002, 85.74402934096034)}"
      ]
     },
     "execution_count": 181,
     "metadata": {},
     "output_type": "execute_result"
    }
   ],
   "source": [
    "dict_places"
   ]
  },
  {
   "cell_type": "code",
   "execution_count": 182,
   "id": "b0d5939a-49bc-40b2-8a39-e7b6fd7f4996",
   "metadata": {},
   "outputs": [
    {
     "data": {
      "text/plain": [
       "[0, 1, 2, 3, 0]"
      ]
     },
     "execution_count": 182,
     "metadata": {},
     "output_type": "execute_result"
    }
   ],
   "source": [
    "from copy import copy\n",
    "import numpy as np\n",
    "np.random.seed(42)\n",
    "\n",
    "\n",
    "def create_guess(cities, start):\n",
    "\n",
    "    guess = copy(cities)\n",
    "\n",
    "    np.random.shuffle(guess)\n",
    "    guess.append(start)\n",
    "    guess.insert(0,start)\n",
    "    return list(guess)\n",
    "\n",
    "create_guess(city_names, start)"
   ]
  },
  {
   "cell_type": "code",
   "execution_count": 183,
   "id": "659960f4-4f5e-4e86-9fff-0c53f69f370d",
   "metadata": {},
   "outputs": [
    {
     "name": "stdout",
     "output_type": "stream",
     "text": [
      "[[0, 2, 3, 1, 0], [0, 1, 2, 3, 0], [0, 2, 3, 1, 0], [0, 1, 2, 3, 0], [0, 2, 1, 3, 0], [0, 2, 1, 3, 0], [0, 3, 2, 1, 0], [0, 1, 2, 3, 0], [0, 3, 2, 1, 0], [0, 1, 3, 2, 0]]\n"
     ]
    }
   ],
   "source": [
    "def create_generation(cities, population=100):\n",
    "\n",
    "    generation = [create_guess(cities, start) for _ in range(population)]\n",
    "    return generation\n",
    "\n",
    "test_generation = create_generation(city_names, population=10)\n",
    "print(test_generation)"
   ]
  },
  {
   "cell_type": "code",
   "execution_count": 184,
   "id": "027cb609-06b0-4afd-b409-c4ea430d7652",
   "metadata": {},
   "outputs": [
    {
     "name": "stdout",
     "output_type": "stream",
     "text": [
      "[([0, 2, 3, 1, 0], 5.092596998585341), ([0, 1, 2, 3, 0], 5.031369202383237), ([0, 2, 3, 1, 0], 5.092596998585341), ([0, 1, 2, 3, 0], 5.031369202383237), ([0, 2, 1, 3, 0], 4.5703193980268715), ([0, 2, 1, 3, 0], 4.5703193980268715), ([0, 3, 2, 1, 0], 5.031369202383237), ([0, 1, 2, 3, 0], 5.031369202383237), ([0, 3, 2, 1, 0], 5.031369202383237), ([0, 1, 3, 2, 0], 5.092596998585341)]\n"
     ]
    }
   ],
   "source": [
    "def fitness_score(guess):\n",
    "\n",
    "    score = 0\n",
    "    for ix, city_id in enumerate(guess[:-1]):\n",
    "        # print(ix)\n",
    "        score += cal_dist(dict_places[city_id], dict_places[guess[ix+1]])\n",
    "    return score\n",
    "\n",
    "def check_fitness(guesses):\n",
    " \n",
    "    fitness_indicator = []\n",
    "    for guess in guesses:\n",
    "        fitness_indicator.append((guess, fitness_score(guess)))\n",
    "    return fitness_indicator\n",
    "\n",
    "print(check_fitness(test_generation))"
   ]
  },
  {
   "cell_type": "code",
   "execution_count": 185,
   "id": "57a4cd77-76bc-446d-abae-f20c01216ce3",
   "metadata": {},
   "outputs": [],
   "source": [
    "def get_breeders_from_generation(guesses, take_best_N=10, take_random_N=5, verbose=False, mutation_rate=0.1):\n",
    "\n",
    "    fit_scores = check_fitness(guesses)\n",
    "    sorted_guesses = sorted(fit_scores, key=lambda x: x[1])\n",
    "    new_generation = [x[0] for x in sorted_guesses[:take_best_N]]\n",
    "    best_guess = new_generation[0]\n",
    "    \n",
    "    if verbose:\n",
    "    \n",
    "        print(best_guess)\n",
    "    \n",
    "   \n",
    "    for _ in range(take_random_N):\n",
    "        ix = np.random.randint(len(guesses))\n",
    "        new_generation.append(guesses[int(ix)])\n",
    "        \n",
    "\n",
    "    \n",
    "    np.random.shuffle(new_generation)\n",
    "    return new_generation, best_guess\n",
    "\n",
    "def make_child(parent1, parent2):\n",
    "\n",
    "    list_of_ids_for_parent1 = list(np.random.choice(parent1, replace=False, size=len(parent1)//2))\n",
    "    child = [-99 for _ in parent1]\n",
    "    \n",
    "    for ix in list_of_ids_for_parent1:\n",
    "        # print(\"List is: \", list_of_ids_for_parent1)\n",
    "        # ix = int(ix)\n",
    "        child[ix] = parent1[ix]\n",
    "    for ix, gene in enumerate(child):\n",
    "        # ix = int(ix)\n",
    "        if gene == -99:\n",
    "            for gene2 in parent2:\n",
    "                if gene2 not in child:\n",
    "                    child[ix] = gene2\n",
    "                    break\n",
    "    child[-1] = child[0]\n",
    "    return child\n",
    "\n",
    "def make_children(old_generation, children_per_couple=1):\n",
    "\n",
    "    mid_point = len(old_generation)//2\n",
    "    next_generation = [] \n",
    "    \n",
    "    for ix, parent in enumerate(old_generation[:mid_point]):\n",
    "        for _ in range(children_per_couple):\n",
    "            next_generation.append(make_child(parent, old_generation[-ix-1]))\n",
    "    return next_generation"
   ]
  },
  {
   "cell_type": "code",
   "execution_count": 186,
   "id": "10e98f67-92a6-4696-8914-96856b1f05c7",
   "metadata": {},
   "outputs": [
    {
     "name": "stdout",
     "output_type": "stream",
     "text": [
      "Generation 0: 500\n",
      "[0, 2, 1, 3, 0]\n",
      "Generation 5: 525\n",
      "[0, 2, 1, 3, 0]\n",
      "Generation 10: 525\n",
      "[0, 3, 1, 2, 0]\n",
      "Generation 15: 525\n",
      "[0, 2, 1, 3, 0]\n",
      "Generation 20: 525\n",
      "[0, 3, 1, 2, 0]\n",
      "Generation 25: 525\n",
      "[0, 3, 1, 2, 0]\n",
      "Generation 30: 525\n",
      "[0, 3, 1, 2, 0]\n",
      "Generation 35: 525\n",
      "[0, 3, 1, 2, 0]\n",
      "Generation 40: 525\n",
      "[0, 3, 1, 2, 0]\n",
      "Generation 45: 525\n",
      "[0, 3, 1, 2, 0]\n",
      "Generation 50: 525\n",
      "[0, 3, 1, 2, 0]\n",
      "Generation 55: 525\n",
      "[0, 3, 1, 2, 0]\n",
      "Generation 60: 525\n",
      "[0, 3, 1, 2, 0]\n",
      "Generation 65: 525\n",
      "[0, 3, 1, 2, 0]\n",
      "Generation 70: 525\n",
      "[0, 3, 1, 2, 0]\n",
      "Generation 75: 525\n",
      "[0, 3, 1, 2, 0]\n",
      "Generation 80: 525\n",
      "[0, 3, 1, 2, 0]\n",
      "Generation 85: 525\n",
      "[0, 3, 1, 2, 0]\n",
      "Generation 90: 525\n",
      "[0, 3, 1, 2, 0]\n",
      "Generation 95: 525\n",
      "[0, 3, 1, 2, 0]\n"
     ]
    }
   ],
   "source": [
    "current_generation = create_generation(city_names,population=500)\n",
    "print_every_n_generations = 5\n",
    "\n",
    "for i in range(100):\n",
    "    if not i % print_every_n_generations:\n",
    "        print(\"Generation %i: \"%i, end='')\n",
    "        print(len(current_generation))\n",
    "        is_verbose = True\n",
    "    else:\n",
    "        is_verbose = False\n",
    "    breeders, best_guess = get_breeders_from_generation(current_generation, \n",
    "                                                        take_best_N=250, take_random_N=100, \n",
    "                                                        verbose=is_verbose)\n",
    "    current_generation = make_children(breeders, children_per_couple=3)\n",
    "    "
   ]
  },
  {
   "cell_type": "code",
   "execution_count": 187,
   "id": "6aa7dc90-5864-401c-a810-eb325c05da11",
   "metadata": {},
   "outputs": [
    {
     "name": "stdout",
     "output_type": "stream",
     "text": [
      "Generation 5: 330\n",
      "Current Best Score:  4.5703193980268715\n",
      "[0, 2, 1, 3, 0]\n",
      "Generation 10: 330\n",
      "Current Best Score:  4.5703193980268715\n",
      "[0, 2, 1, 3, 0]\n",
      "Generation 15: 330\n",
      "Current Best Score:  4.5703193980268715\n",
      "[0, 2, 1, 3, 0]\n",
      "Generation 20: 330\n",
      "Current Best Score:  4.5703193980268715\n",
      "[0, 2, 1, 3, 0]\n",
      "Generation 25: 330\n",
      "Current Best Score:  4.5703193980268715\n",
      "[0, 2, 1, 3, 0]\n",
      "Generation 30: 330\n",
      "Current Best Score:  4.5703193980268715\n",
      "[0, 2, 1, 3, 0]\n",
      "Generation 35: 330\n",
      "Current Best Score:  4.5703193980268715\n",
      "[0, 2, 1, 3, 0]\n",
      "Generation 40: 330\n",
      "Current Best Score:  4.5703193980268715\n",
      "[0, 2, 1, 3, 0]\n",
      "Generation 45: 330\n",
      "Current Best Score:  4.5703193980268715\n",
      "[0, 2, 1, 3, 0]\n",
      "Generation 50: 330\n",
      "Current Best Score:  4.5703193980268715\n",
      "[0, 2, 1, 3, 0]\n",
      "Generation 55: 330\n",
      "Current Best Score:  4.5703193980268715\n",
      "[0, 2, 1, 3, 0]\n",
      "Generation 60: 330\n",
      "Current Best Score:  4.5703193980268715\n",
      "[0, 2, 1, 3, 0]\n",
      "Generation 65: 330\n",
      "Current Best Score:  4.5703193980268715\n",
      "[0, 2, 1, 3, 0]\n",
      "Generation 70: 330\n",
      "Current Best Score:  4.5703193980268715\n",
      "[0, 2, 1, 3, 0]\n",
      "Generation 75: 330\n",
      "Current Best Score:  4.5703193980268715\n",
      "[0, 2, 1, 3, 0]\n",
      "Generation 80: 330\n",
      "Current Best Score:  4.5703193980268715\n",
      "[0, 2, 1, 3, 0]\n",
      "Generation 85: 330\n",
      "Current Best Score:  4.5703193980268715\n",
      "[0, 2, 1, 3, 0]\n",
      "Generation 90: 330\n",
      "Current Best Score:  4.5703193980268715\n",
      "[0, 2, 1, 3, 0]\n",
      "Generation 95: 330\n",
      "Current Best Score:  4.5703193980268715\n",
      "[0, 2, 1, 3, 0]\n"
     ]
    }
   ],
   "source": [
    "def evolve_to_solve(current_generation, max_generations, take_best_N, take_random_N,\n",
    "                    mutation_rate, children_per_couple, print_every_n_generations, verbose=False):\n",
    "\n",
    "    fitness_tracking = []\n",
    "    for i in range(max_generations):\n",
    "        if verbose and not i % print_every_n_generations and i > 0:\n",
    "            print(\"Generation %i: \"%i, end='')\n",
    "            print(len(current_generation))\n",
    "            print(\"Current Best Score: \", fitness_tracking[-1])\n",
    "            is_verbose = True\n",
    "        else:\n",
    "            is_verbose = False\n",
    "        breeders, best_guess = get_breeders_from_generation(current_generation, \n",
    "                                                            take_best_N=take_best_N, take_random_N=take_random_N, \n",
    "                                                            verbose=is_verbose, mutation_rate=mutation_rate)\n",
    "        fitness_tracking.append(fitness_score(best_guess))\n",
    "        current_generation = make_children(breeders, children_per_couple=children_per_couple)\n",
    "    \n",
    "    return fitness_tracking, best_guess\n",
    "\n",
    "current_generation = create_generation(city_names,population=500)\n",
    "fitness_tracking, best_guess = evolve_to_solve(current_generation, 100, 150, 70, 0.5, 3, 5, verbose=True)"
   ]
  },
  {
   "cell_type": "code",
   "execution_count": 111,
   "id": "5cf1dc42-500f-42bd-b742-b562f7e94ea7",
   "metadata": {},
   "outputs": [
    {
     "data": {
      "image/png": "[encoded data removed]",
      "text/plain": [
       "<Figure size 960x720 with 1 Axes>"
      ]
     },
     "metadata": {},
     "output_type": "display_data"
    }
   ],
   "source": [
    "def make_fitness_tracking_plot(fitness_tracking):\n",
    "    import matplotlib.pyplot as plt \n",
    "    plt.figure(dpi=150)\n",
    "    plt.plot(range(len(fitness_tracking)), fitness_tracking)\n",
    "    plt.ylabel(\"Fitness Score\")\n",
    "    plt.xlabel(\"Generation\")\n",
    "    plt.title(\"Fitness Evolution\");\n",
    "\n",
    "make_fitness_tracking_plot(fitness_tracking)"
   ]
  },
  {
   "cell_type": "code",
   "execution_count": null,
   "id": "4e5290e7-1979-447c-96fe-48113fe2da12",
   "metadata": {},
   "outputs": [],
   "source": []
  },
  {
   "cell_type": "code",
   "execution_count": null,
   "id": "66e179b2-23a1-4c8c-bc76-b68451072109",
   "metadata": {},
   "outputs": [],
   "source": []
  }
 ],
 "metadata": {
  "kernelspec": {
   "display_name": "Python 3 (ipykernel)",
   "language": "python",
   "name": "python3"
  },
  "language_info": {
   "codemirror_mode": {
    "name": "ipython",
    "version": 3
   },
   "file_extension": ".py",
   "mimetype": "text/x-python",
   "name": "python",
   "nbconvert_exporter": "python",
   "pygments_lexer": "ipython3",
   "version": "3.10.13"
  }
 },
 "nbformat": 4,
 "nbformat_minor": 5
}
